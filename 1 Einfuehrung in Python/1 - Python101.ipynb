{
 "cells": [
  {
   "cell_type": "markdown",
   "metadata": {},
   "source": [
    "# Python Basics"
   ]
  },
  {
   "cell_type": "code",
   "execution_count": null,
   "metadata": {},
   "outputs": [],
   "source": []
  },
  {
   "cell_type": "markdown",
   "metadata": {},
   "source": [
    "**First, try Python as a calculator.**\n",
    "\n",
    "Python can be used as a shell interpreter. After you install Python, you can open a command line terminal (e.g. powershell or bash), type python3 or python, and a Python shell will open.\n",
    "\n",
    "For now, we are using the notebook.\n",
    "\n",
    "Here is simple math. Go to town!"
   ]
  },
  {
   "cell_type": "code",
   "execution_count": 1,
   "metadata": {},
   "outputs": [
    {
     "data": {
      "text/plain": [
       "2"
      ]
     },
     "execution_count": 1,
     "metadata": {},
     "output_type": "execute_result"
    }
   ],
   "source": [
    "1 + 1"
   ]
  },
  {
   "cell_type": "code",
   "execution_count": 2,
   "metadata": {},
   "outputs": [
    {
     "data": {
      "text/plain": [
       "0.75"
      ]
     },
     "execution_count": 2,
     "metadata": {},
     "output_type": "execute_result"
    }
   ],
   "source": [
    "3 / 4  # caution: in Python 2 the result will be an integer"
   ]
  },
  {
   "cell_type": "code",
   "execution_count": 4,
   "metadata": {},
   "outputs": [
    {
     "data": {
      "text/plain": [
       "343"
      ]
     },
     "execution_count": 4,
     "metadata": {},
     "output_type": "execute_result"
    }
   ],
   "source": [
    "7 ** 3 # 7 to the power of 3"
   ]
  },
  {
   "cell_type": "markdown",
   "metadata": {},
   "source": [
    "**Challenge for you**\n",
    "\n",
    "The arithmetic operators in Python are:\n",
    "\n",
    "```\n",
    "+   -   *   /   **   %   //\n",
    "```\n",
    "Use the Python interpreter to calculate:\n",
    "\n",
    "* 16 times 26515\n",
    "* 1835 modulo 163\n",
    "\n",
    "If you're stuck, try\n",
    "\n",
    "```\n",
    "help()\n",
    "```\n",
    "and then in the interactive box, type symbols"
   ]
  },
  {
   "cell_type": "markdown",
   "metadata": {},
   "source": [
    "## More math requires the math module"
   ]
  },
  {
   "cell_type": "code",
   "execution_count": 129,
   "metadata": {},
   "outputs": [
    {
     "name": "stdout",
     "output_type": "stream",
     "text": [
      "The square root of 3 is: 1.7320508075688772\n",
      "pi is: 3.141592653589793\n",
      "The sin of  90 degrees is: 1.0\n"
     ]
    }
   ],
   "source": [
    "import math\n",
    "\n",
    "print(\"The square root of 3 is:\", math.sqrt(3))\n",
    "print(\"pi is:\", math.pi)\n",
    "print(\"The sin of  90 degrees is:\", math.sin(math.radians(90)))"
   ]
  },
  {
   "cell_type": "markdown",
   "metadata": {},
   "source": [
    "- The `import` statement imports the module into the namespace\n",
    "- Then access functions (or constants) by using:\n",
    "```python\n",
    "      <module>.<function>\n",
    "```      \n",
    "- And get help on what is in the module by using:\n",
    "```python\n",
    "    help(<module>)\n",
    "```"
   ]
  },
  {
   "cell_type": "markdown",
   "metadata": {},
   "source": [
    "## Challenge for you\n",
    "Hint: `help(math)` will show all the functions...\n",
    "\n",
    "- What is the arc cosine of `0.743144` in degrees?"
   ]
  },
  {
   "cell_type": "code",
   "execution_count": 130,
   "metadata": {},
   "outputs": [
    {
     "data": {
      "text/plain": [
       "42"
      ]
     },
     "execution_count": 130,
     "metadata": {},
     "output_type": "execute_result"
    }
   ],
   "source": [
    "from math import acos, degrees  # use 'from' sparingly\n",
    "\n",
    "int(degrees(acos(0.743144)))  # 'int' to make an integer"
   ]
  },
  {
   "cell_type": "markdown",
   "metadata": {},
   "source": [
    "## Math takeaways\n",
    "- Operators are what you think\n",
    "- Be careful of unintended integer math (Difference between Python 2 and Python 3)\n",
    "- the `math` module has the remaining functions"
   ]
  },
  {
   "cell_type": "markdown",
   "metadata": {},
   "source": [
    "# Strings"
   ]
  },
  {
   "cell_type": "markdown",
   "metadata": {},
   "source": [
    "## Strings\n",
    "Use `help(str)` to see available functions for string objects. For help on a particular function from the class, type the class name and the function name: `help(str.join)`\n",
    "\n",
    "String operations are easy:\n",
    "```\n",
    "s = \"foobar\"\n",
    "\n",
    "\"bar\" in s\n",
    "s.find(\"bar\")\n",
    "index = s.find(\"bar\")\n",
    "s[:index]\n",
    "s[index:] + \"  this is intuitive! Hooray!\"\n",
    "s[-1]  # The last element in the list or string\n",
    "```\n",
    "\n",
    "Strings are **immutable**, meaning they cannot be modified, only copied or replaced."
   ]
  },
  {
   "cell_type": "code",
   "execution_count": 6,
   "metadata": {},
   "outputs": [
    {
     "data": {
      "text/plain": [
       "True"
      ]
     },
     "execution_count": 6,
     "metadata": {},
     "output_type": "execute_result"
    }
   ],
   "source": [
    "# Here's to start.\n",
    "s = \"foobar\"\n",
    "\n",
    "\"bar\" in s"
   ]
  },
  {
   "cell_type": "code",
   "execution_count": 7,
   "metadata": {},
   "outputs": [
    {
     "data": {
      "text/plain": [
       "3"
      ]
     },
     "execution_count": 7,
     "metadata": {},
     "output_type": "execute_result"
    }
   ],
   "source": [
    "# You try out the other ones!\n",
    "s.find(\"bar\")"
   ]
  },
  {
   "cell_type": "markdown",
   "metadata": {},
   "source": [
    "## Challenge for you\n",
    "Using only string addition (concatenation) and the function `str.join`, combine `declaration` and `sayings` :\n",
    "\n",
    "```python\n",
    "declaration = \"We are the knights who say:\\n\"\n",
    "sayings = ['\"icky\"'] * 3 + ['\"p\\'tang\"']\n",
    "# the (\\') escapes the quote\n",
    "```\n",
    "\n",
    "to a variable, `sentence`, that when printed does this:\n",
    "\n",
    "```python\n",
    ">>> print(sentence)\n",
    "We are the knights who say:\n",
    "\"icky\", \"icky\", \"icky\", \"p'tang\"!\n",
    "```"
   ]
  },
  {
   "cell_type": "code",
   "execution_count": 133,
   "metadata": {},
   "outputs": [
    {
     "name": "stdout",
     "output_type": "stream",
     "text": [
      "Help on method_descriptor:\n",
      "\n",
      "join(...)\n",
      "    S.join(iterable) -> str\n",
      "    \n",
      "    Return a string which is the concatenation of the strings in the\n",
      "    iterable.  The separator between elements is S.\n",
      "\n"
     ]
    }
   ],
   "source": [
    "help(str.join)"
   ]
  },
  {
   "cell_type": "code",
   "execution_count": 134,
   "metadata": {},
   "outputs": [
    {
     "name": "stdout",
     "output_type": "stream",
     "text": [
      "['\"icky\"', '\"icky\"', '\"icky\"', '\"p\\'tang\"']\n"
     ]
    }
   ],
   "source": [
    "declaration = \"We are now the knights who say:\\n\"\n",
    "sayings = ['\"icky\"'] * 3 + ['\"p\\'tang\"']\n",
    "\n",
    "# You do the rest -- fix the below  :-)\n",
    "print(sayings)"
   ]
  },
  {
   "cell_type": "markdown",
   "metadata": {},
   "source": [
    "### Solution"
   ]
  },
  {
   "cell_type": "code",
   "execution_count": 135,
   "metadata": {},
   "outputs": [
    {
     "name": "stdout",
     "output_type": "stream",
     "text": [
      "We are now the knights who say:\n",
      "\"icky\", \"icky\", \"icky\", \"p'tang\"!\n",
      "\n"
     ]
    }
   ],
   "source": [
    "sentence = declaration + \", \".join(sayings) + \"!\"\n",
    "print(sentence)\n",
    "print()    # empty 'print' makes a newline"
   ]
  },
  {
   "cell_type": "code",
   "execution_count": 136,
   "metadata": {},
   "outputs": [
    {
     "name": "stdout",
     "output_type": "stream",
     "text": [
      "ni - ni - ni - ni - ni - ni - ni - ni - ni - ni - ni - ni\n",
      "icky\n",
      "icky\n",
      "icky\n",
      "p'tang!\n"
     ]
    }
   ],
   "source": [
    "# By the way, you use 'split' to split a string...\n",
    "#  (note what happens to the commas):\n",
    "print(\" - \".join(['ni'] * 12))\n",
    "print(\"\\n\".join(\"icky, icky, icky, p'tang!\".split(\", \")))"
   ]
  },
  {
   "cell_type": "markdown",
   "metadata": {},
   "source": [
    "## String formatting\n",
    "There are a bunch of ways to do string formatting:\n",
    "- C-style:\n",
    "```python\n",
    "\"%s is: %.3f (or %d in Indiana)\" % \\\n",
    "        (\"Pi\", math.pi, math.pi)\n",
    "# %s = string\n",
    "# %0.3f = floating point number, 3 places to the left of the decimal\n",
    "# %d = decimal number\n",
    "#\n",
    "# Style notes:\n",
    "#     Line continuation with '\\' works but\n",
    "#     is frowned upon. Indent twice\n",
    "#     (8 spaces) so it doesn't look\n",
    "#     like a control statement\n",
    "```"
   ]
  },
  {
   "cell_type": "code",
   "execution_count": 137,
   "metadata": {},
   "outputs": [
    {
     "name": "stdout",
     "output_type": "stream",
     "text": [
      "Pi is: 3.142 (well, 3 in Indiana)\n"
     ]
    }
   ],
   "source": [
    "print(\"%s is: %.3f (well, %d in Indiana)\" % (\"Pi\", math.pi, math.pi))"
   ]
  },
  {
   "cell_type": "markdown",
   "metadata": {},
   "source": [
    "- New in Python 2.6, `str.format` doesn't require types:\n",
    "```python\n",
    "\"{0} is: {1} ({1:3.2} truncated)\".format(\n",
    "        \"Pi\", math.pi)\n",
    "# More style notes:\n",
    "#    Line continuation in square or curly\n",
    "#    braces or parenthesis is better.\n",
    "```       "
   ]
  },
  {
   "cell_type": "code",
   "execution_count": 138,
   "metadata": {},
   "outputs": [
    {
     "name": "stdout",
     "output_type": "stream",
     "text": [
      "Pi is: 3.141592653589793 (3.14 truncated)\n"
     ]
    }
   ],
   "source": [
    "# Use a colon and then decimals to control the\n",
    "# number of decimals that print out.\n",
    "#\n",
    "# Also note the number {1} appears twice, so that\n",
    "# the argument `math.pi` is reused.\n",
    "print(\"{0} is: {1} ({1:.3} truncated)\".format(\"Pi\", math.pi))"
   ]
  },
  {
   "cell_type": "markdown",
   "metadata": {},
   "source": [
    "- And Python 2.7+ allows named specifications:\n",
    "```python\n",
    "\"{pi} is {pie:05.3}\".format(\n",
    "        pi=\"Pi\", pie=math.pi)\n",
    "# 05.3 = zero-padded number, with\n",
    "#        5 total characters, and\n",
    "#        3 significant digits.\n",
    "```"
   ]
  },
  {
   "cell_type": "code",
   "execution_count": 139,
   "metadata": {},
   "outputs": [
    {
     "name": "stdout",
     "output_type": "stream",
     "text": [
      "Pi is: 003.1\n"
     ]
    }
   ],
   "source": [
    "# Go to town -- change the decimal places!\n",
    "print(\"{pi} is: {pie:05.2}\".format(pi=\"Pi\", pie=math.pi))"
   ]
  },
  {
   "cell_type": "markdown",
   "metadata": {},
   "source": [
    "## String takeaways\n",
    "- `str.split` and `str.join`, plus the **regex** module (pattern matching tools for strings), make Python my language of choice for data manipulation\n",
    "- There are many ways to format a string\n",
    "- `help(str)` for more"
   ]
  },
  {
   "cell_type": "markdown",
   "metadata": {},
   "source": [
    "# Other types"
   ]
  },
  {
   "cell_type": "code",
   "execution_count": 9,
   "metadata": {},
   "outputs": [
    {
     "data": {
      "text/plain": [
       "bool"
      ]
     },
     "execution_count": 9,
     "metadata": {},
     "output_type": "execute_result"
    }
   ],
   "source": [
    "# Boolean\n",
    "x = True\n",
    "y = False\n",
    "type(x)"
   ]
  },
  {
   "cell_type": "code",
   "execution_count": null,
   "metadata": {},
   "outputs": [],
   "source": []
  },
  {
   "cell_type": "markdown",
   "metadata": {},
   "source": [
    "## Containers\n",
    "\n",
    "Lists, dictionaries, sets. We will talk about them later.\n",
    "There is also a library [`collections`][collections] with additional specialized container types.\n",
    "\n",
    "[collections]: https://docs.python.org/3/library/collections.html"
   ]
  },
  {
   "cell_type": "code",
   "execution_count": 11,
   "metadata": {},
   "outputs": [
    {
     "data": {
      "text/plain": [
       "list"
      ]
     },
     "execution_count": 11,
     "metadata": {},
     "output_type": "execute_result"
    }
   ],
   "source": [
    "# Lists can contain multiple types\n",
    "x = [True, 1, 1.2, 'hi', [1], (1,2,3), {}, None]\n",
    "type(x)\n",
    "# (the underscores are for special internal variables)"
   ]
  },
  {
   "cell_type": "code",
   "execution_count": 12,
   "metadata": {},
   "outputs": [
    {
     "data": {
      "text/plain": [
       "1"
      ]
     },
     "execution_count": 12,
     "metadata": {},
     "output_type": "execute_result"
    }
   ],
   "source": [
    "# List access\n",
    "x[1]"
   ]
  },
  {
   "cell_type": "code",
   "execution_count": 143,
   "metadata": {},
   "outputs": [
    {
     "name": "stdout",
     "output_type": "stream",
     "text": [
      "x[0] is: True ... and x[1] is: 1\n"
     ]
    }
   ],
   "source": [
    "print(\"x[0] is:\", x[0], \"... and x[1] is:\", x[1])  # Python is zero-indexed"
   ]
  },
  {
   "cell_type": "code",
   "execution_count": 13,
   "metadata": {},
   "outputs": [
    {
     "name": "stdout",
     "output_type": "stream",
     "text": [
      "True ... type = <class 'bool'>\n",
      "1 ... type = <class 'int'>\n",
      "1.2 ... type = <class 'float'>\n",
      "hi ... type = <class 'str'>\n",
      "[1] ... type = <class 'list'>\n",
      "(1, 2, 3) ... type = <class 'tuple'>\n",
      "{} ... type = <class 'dict'>\n",
      "None ... type = <class 'NoneType'>\n",
      "{'c', 'b', 'a'} ... type = <class 'set'>\n"
     ]
    }
   ],
   "source": [
    "x.append(set([\"a\", \"b\", \"c\"]))\n",
    "\n",
    "for item in x:\n",
    "    print(item, \"... type =\", type(item))"
   ]
  },
  {
   "cell_type": "markdown",
   "metadata": {},
   "source": [
    "If you need to check an object's type, do this:\n",
    "\n",
    "```python\n",
    "isinstance(x, list)\n",
    "isinstance(x[1], bool)\n",
    "```"
   ]
  },
  {
   "cell_type": "code",
   "execution_count": 14,
   "metadata": {},
   "outputs": [
    {
     "data": {
      "text/plain": [
       "False"
      ]
     },
     "execution_count": 14,
     "metadata": {},
     "output_type": "execute_result"
    }
   ],
   "source": [
    "isinstance(x, tuple)"
   ]
  },
  {
   "cell_type": "markdown",
   "metadata": {},
   "source": [
    "# Stopped HERE!!!"
   ]
  },
  {
   "cell_type": "markdown",
   "metadata": {},
   "source": [
    "## Caveat\n",
    "Lists, when copied, are copied by pointer. Every symbol that points to a list, points to that same list.\n",
    "Same with dictionaries and sets.\n",
    "\n",
    "### Example:\n",
    "```python\n",
    "fifth_element = x[4]\n",
    "fifth_element.append(\"Both!\")\n",
    "print(fifth_element)\n",
    "print(x)\n",
    "```\n",
    "\n",
    "Why? The assignment (`=`) operator copies the pointer to the place on the computer where the list (or dictionary or set) is: it does not copy the actual contents of the whole object, just the address where the data is in the computer. This is efficent because the object could be megabytes big.\n"
   ]
  },
  {
   "cell_type": "code",
   "execution_count": 146,
   "metadata": {},
   "outputs": [
    {
     "name": "stdout",
     "output_type": "stream",
     "text": [
      "[1]\n",
      "[1, 'Both!']\n",
      "[True, 1, 1.2, 'hi', [1, 'Both!'], (1, 2, 3), {}, None, {'a', 'c', 'b'}]\n"
     ]
    }
   ],
   "source": [
    "# You do it!\n",
    "fifth_element = x[4]\n",
    "print(fifth_element)\n",
    "\n",
    "fifth_element.append(\"Both!\")\n",
    "print(fifth_element)\n",
    "\n",
    "# and see, the original list is changed too!\n",
    "print(x)"
   ]
  },
  {
   "cell_type": "markdown",
   "metadata": {},
   "source": [
    "### To make a duplicate copy you must do it explicitly\n",
    "[The copy module ] [copy]\n",
    "\n",
    "Example:\n",
    "\n",
    "```python\n",
    "import copy\n",
    "\n",
    "# -------------------- A shallow copy\n",
    "x[4] = [\"list\"]\n",
    "shallow_copy_of_x = copy.copy(x)\n",
    "shallow_copy_of_x[0] = \"Shallow copy\"\n",
    "fifth_element = x[4]\n",
    "fifth_element.append(\"Both?\")\n",
    "\n",
    "def print_list(l):\n",
    "   print(\"-\" * 10)\n",
    "   for elem in l:\n",
    "       print(elem)\n",
    "   print()\n",
    "\n",
    "\n",
    "# look at them\n",
    "print_list(shallow_copy_of_x)\n",
    "print_list(x)\n",
    "fifth_element\n",
    "```\n",
    "\n",
    "[copy]: https://docs.python.org/3/library/copy.html"
   ]
  },
  {
   "cell_type": "code",
   "execution_count": 147,
   "metadata": {
    "collapsed": true
   },
   "outputs": [],
   "source": [
    "import copy\n",
    "\n",
    "# -------------------- A shallow copy\n",
    "x[4] = [\"list\"]\n",
    "shallow_copy_of_x = copy.copy(x)\n",
    "shallow_copy_of_x[0] = \"Shallow copy\"\n",
    "fifth_element = x[4]\n",
    "fifth_element.append(\"Both?\")"
   ]
  },
  {
   "cell_type": "code",
   "execution_count": 148,
   "metadata": {},
   "outputs": [
    {
     "name": "stdout",
     "output_type": "stream",
     "text": [
      "-------- the list, element-by-element --------\n",
      "Shallow copy\n",
      "1\n",
      "1.2\n",
      "hi\n",
      "['list', 'Both?']\n",
      "(1, 2, 3)\n",
      "{}\n",
      "None\n",
      "{'a', 'c', 'b'}\n",
      "\n",
      "-------- the list, element-by-element --------\n",
      "True\n",
      "1\n",
      "1.2\n",
      "hi\n",
      "['list', 'Both?']\n",
      "(1, 2, 3)\n",
      "{}\n",
      "None\n",
      "{'a', 'c', 'b'}\n",
      "\n"
     ]
    }
   ],
   "source": [
    "# look at them\n",
    "def print_list(l):\n",
    "   print(\"-\" * 8, \"the list, element-by-element\", \"-\" * 8)\n",
    "   for elem in l:\n",
    "       print(elem)\n",
    "   print()\n",
    "\n",
    "print_list(shallow_copy_of_x)\n",
    "print_list(x)"
   ]
  },
  {
   "cell_type": "markdown",
   "metadata": {},
   "source": [
    "## And here is a deep copy\n",
    "\n",
    "```python\n",
    "# -------------------- A deep copy\n",
    "\n",
    "x[4] = [\"list\"]\n",
    "deep_copy_of_x = copy.deepcopy(x)\n",
    "deep_copy_of_x[0] = \"Deep copy\"\n",
    "fifth_element = deep_copy_of_x[4]\n",
    "fifth_element.append(\"Both?\")\n",
    "\n",
    "# look at them\n",
    "print_list(deep_copy_of_x)\n",
    "print_list(x)\n",
    "fifth_element\n",
    "```"
   ]
  },
  {
   "cell_type": "code",
   "execution_count": 149,
   "metadata": {},
   "outputs": [
    {
     "name": "stdout",
     "output_type": "stream",
     "text": [
      "['list', 'Both? -- no, just this one got it!']\n",
      "\n",
      "and...the fifth element in the original list:\n",
      "['list']\n"
     ]
    }
   ],
   "source": [
    "# -------------------- A deep copy\n",
    "\n",
    "x[4] = [\"list\"]\n",
    "deep_copy_of_x = copy.deepcopy(x)\n",
    "deep_copy_of_x[0] = \"Deep copy\"\n",
    "fifth_element = deep_copy_of_x[4]\n",
    "fifth_element.append(\"Both? -- no, just this one got it!\")\n",
    "\n",
    "# look at them\n",
    "print(fifth_element)\n",
    "print(\"\\nand...the fifth element in the original list:\")\n",
    "print(x[4])"
   ]
  },
  {
   "cell_type": "markdown",
   "metadata": {},
   "source": [
    "## Common atomic types\n",
    "\n",
    "<table style=\"border:3px solid white;\"><tr>\n",
    "<td> boolean</td>\n",
    "<td> integer </td>\n",
    "<td> float </td>\n",
    "<td>string</td>\n",
    "<td>None</td>\n",
    "</tr><tr>\n",
    "<td><tt>True</tt></td>\n",
    "<td><tt>42</tt></td>\n",
    "<td><tt>42.0</tt></td>\n",
    "<td><tt>\"hello\"</tt></td>\n",
    "<td><tt>None</tt></td>\n",
    "</tr></table>\n",
    "\n",
    "## Common container types\n",
    "\n",
    "<table style=\"border:3px solid white;\"><tr>\n",
    "<td> list </td>\n",
    "<td> tuple </td>\n",
    "<td> set </td>\n",
    "<td>dictionary</td>\n",
    "</tr><tr style=\"font-size:smaller;\">\n",
    "<td><ul style=\"margin:5px 2px 0px 15px;\"><li>Iterable</li><li>Mutable</li>\n",
    "       <li>No restriction on elements</li>\n",
    "       <li>Elements are ordered</li></ul></td>\n",
    "<td><ul style=\"margin:5px 2px 0px 15px;\"><li>Iterable</li><li>Immutable</li>\n",
    "       <li>Elements must be hashable</li>\n",
    "       <li>Elements are ordered</li></ul></td>\n",
    "<td><ul style=\"margin:5px 2px 0px 15px;\"><li>Iterable</li><li>Mutable</li>\n",
    "    <li>Elements are<br/>\n",
    "    unique and must<br/>\n",
    "    be hashable</li>\n",
    "       <li>Elements are not ordered</li></ul></td>\n",
    "<td><ul style=\"margin:5px 2px 0px 15px;\"><li>Iterable</li><li>Mutable</li>\n",
    "      <li>Key, value pairs.<br/>\n",
    "      Keys are unique and<br/>\n",
    "      must be hashable</li>\n",
    "       <li>Keys are not ordered</li></ul></td>\n",
    "</tr></table>"
   ]
  },
  {
   "cell_type": "markdown",
   "metadata": {},
   "source": [
    "### Iterable\n",
    "You can loop over it\n",
    "\n",
    "### Mutable\n",
    "You can change it\n",
    "\n",
    "### Hashable\n",
    "A hash function converts an object to a number that will always be the same for the object. They help with identifying the object. A better explanation kind of has to go into the guts of the code...\n"
   ]
  },
  {
   "cell_type": "markdown",
   "metadata": {},
   "source": [
    "# Container examples"
   ]
  },
  {
   "cell_type": "markdown",
   "metadata": {},
   "source": [
    "## List\n",
    "- To make a list, use square braces."
   ]
  },
  {
   "cell_type": "code",
   "execution_count": 150,
   "metadata": {},
   "outputs": [
    {
     "data": {
      "text/plain": [
       "list"
      ]
     },
     "execution_count": 150,
     "metadata": {},
     "output_type": "execute_result"
    }
   ],
   "source": [
    "l = [\"a\", 0, [1, 2] ]\n",
    "l[1] = \"second element\"\n",
    "\n",
    "type(l)"
   ]
  },
  {
   "cell_type": "code",
   "execution_count": 151,
   "metadata": {},
   "outputs": [
    {
     "name": "stdout",
     "output_type": "stream",
     "text": [
      "['a', 'second element', [1, 2]]\n"
     ]
    }
   ],
   "source": [
    "print(l)"
   ]
  },
  {
   "cell_type": "markdown",
   "metadata": {},
   "source": [
    "- Items in a list can be anything: <br/>\n",
    "  sets, other lists, dictionaries, atoms"
   ]
  },
  {
   "cell_type": "code",
   "execution_count": 152,
   "metadata": {},
   "outputs": [
    {
     "name": "stdout",
     "output_type": "stream",
     "text": [
      "range(0, 3)\n"
     ]
    }
   ],
   "source": [
    "indices = range(len(l))\n",
    "print(indices)"
   ]
  },
  {
   "cell_type": "code",
   "execution_count": 153,
   "metadata": {},
   "outputs": [
    {
     "name": "stdout",
     "output_type": "stream",
     "text": [
      "a\n",
      "second element\n",
      "[1, 2]\n"
     ]
    }
   ],
   "source": [
    "# Iterate over the indices using i=0, i=1, i=2\n",
    "for i in indices:\n",
    "    print(l[i])"
   ]
  },
  {
   "cell_type": "code",
   "execution_count": 154,
   "metadata": {},
   "outputs": [
    {
     "name": "stdout",
     "output_type": "stream",
     "text": [
      "a\n",
      "second element\n",
      "[1, 2]\n"
     ]
    }
   ],
   "source": [
    "# Or iterate over the items in `x` directly\n",
    "for x in l:\n",
    "    print(x)"
   ]
  },
  {
   "cell_type": "markdown",
   "metadata": {},
   "source": [
    "## Tuple\n",
    "To make a tuple, use parenthesis."
   ]
  },
  {
   "cell_type": "code",
   "execution_count": 155,
   "metadata": {},
   "outputs": [
    {
     "data": {
      "text/plain": [
       "tuple"
      ]
     },
     "execution_count": 155,
     "metadata": {},
     "output_type": "execute_result"
    }
   ],
   "source": [
    "t = (\"a\", 0, \"tuple\")\n",
    "type(t)"
   ]
  },
  {
   "cell_type": "code",
   "execution_count": 156,
   "metadata": {},
   "outputs": [
    {
     "ename": "SyntaxError",
     "evalue": "Missing parentheses in call to 'print' (<ipython-input-156-d7e81b4073bb>, line 2)",
     "output_type": "error",
     "traceback": [
      "\u001b[0;36m  File \u001b[0;32m\"<ipython-input-156-d7e81b4073bb>\"\u001b[0;36m, line \u001b[0;32m2\u001b[0m\n\u001b[0;31m    print x\u001b[0m\n\u001b[0m          ^\u001b[0m\n\u001b[0;31mSyntaxError\u001b[0m\u001b[0;31m:\u001b[0m Missing parentheses in call to 'print'\n"
     ]
    }
   ],
   "source": [
    "for x in t:\n",
    "    print x"
   ]
  },
  {
   "cell_type": "markdown",
   "metadata": {},
   "source": [
    "## Set\n",
    "To make a set, wrap a list with the function `set()`.\n",
    "- Items in a set are unique\n",
    "- Lists, dictionaries, and sets cannot be in a set"
   ]
  },
  {
   "cell_type": "code",
   "execution_count": 157,
   "metadata": {
    "collapsed": true
   },
   "outputs": [],
   "source": [
    "s = set(['a', 0])\n",
    "if 'b' in s:\n",
    "    print(\"has b\")"
   ]
  },
  {
   "cell_type": "code",
   "execution_count": 158,
   "metadata": {},
   "outputs": [
    {
     "name": "stdout",
     "output_type": "stream",
     "text": [
      "has b\n"
     ]
    }
   ],
   "source": [
    "s.add(\"b\")\n",
    "s.remove(\"a\")\n",
    "\n",
    "if 'b' in s:\n",
    "    print(\"has b\")"
   ]
  },
  {
   "cell_type": "code",
   "execution_count": 159,
   "metadata": {},
   "outputs": [
    {
     "name": "stdout",
     "output_type": "stream",
     "text": [
      "Could not add the list\n"
     ]
    }
   ],
   "source": [
    "l = [1,2,3]\n",
    "try:\n",
    "    s.add(l)\n",
    "except TypeError:\n",
    "    print(\"Could not add the list\")\n",
    "    #raise  # uncomment this to raise an error"
   ]
  },
  {
   "cell_type": "markdown",
   "metadata": {},
   "source": [
    "## Dictionary\n",
    "To make a dictionary, use curly braces.\n",
    "- A dictionary is a set of key,value pairs where the keys\n",
    "  are unique.\n",
    "- Lists, dictionaries, and sets cannot be dictionary keys\n",
    "- To iterate over a dictionary use `items`"
   ]
  },
  {
   "cell_type": "code",
   "execution_count": 160,
   "metadata": {},
   "outputs": [],
   "source": [
    "#   two ways to do the same thing\n",
    "d = {\"mother\":\"hamster\",\n",
    "     \"father\":\"elderberries\"}\n",
    "d = dict(mother=\"hamster\",\n",
    "         father=\"elderberries\")"
   ]
  },
  {
   "cell_type": "code",
   "execution_count": 161,
   "metadata": {},
   "outputs": [
    {
     "data": {
      "text/plain": [
       "'hamster'"
      ]
     },
     "execution_count": 161,
     "metadata": {},
     "output_type": "execute_result"
    }
   ],
   "source": [
    "d['mother']"
   ]
  },
  {
   "cell_type": "code",
   "execution_count": 162,
   "metadata": {},
   "outputs": [
    {
     "name": "stdout",
     "output_type": "stream",
     "text": [
      "the dictionary keys: dict_keys(['father', 'mother'])\n",
      "\n",
      "the dictionary values: dict_values(['elderberries', 'hamster'])\n"
     ]
    }
   ],
   "source": [
    "print(\"the dictionary keys:\", d.keys())\n",
    "print()\n",
    "print(\"the dictionary values:\", d.values())"
   ]
  },
  {
   "cell_type": "code",
   "execution_count": 163,
   "metadata": {},
   "outputs": [
    {
     "name": "stdout",
     "output_type": "stream",
     "text": [
      "key:  father  ... val:  elderberries\n",
      "key:  mother  ... val:  hamster\n"
     ]
    }
   ],
   "source": [
    "# When iterating over a dictionary, use items() and two variables:\n",
    "for k, v in d.items():\n",
    "    print(\"key: \", k, end=\"  ... \")\n",
    "    print(\"val: \", v)"
   ]
  },
  {
   "cell_type": "code",
   "execution_count": 164,
   "metadata": {},
   "outputs": [
    {
     "name": "stdout",
     "output_type": "stream",
     "text": [
      "father\n",
      "mother\n"
     ]
    }
   ],
   "source": [
    "# If you don't you will just get the keys:\n",
    "for k in d:\n",
    "    print(k)"
   ]
  },
  {
   "cell_type": "markdown",
   "metadata": {},
   "source": [
    "## Type takeaways\n",
    "- Lists, tuples, dictionaries, sets all are base Python objects\n",
    "- Be careful of duck typing\n",
    "- Remember about copy / deepcopy\n",
    "\n",
    "```python\n",
    "# For more information, use help(object)\n",
    "help(tuple)\n",
    "help(set)\n",
    "help()\n",
    "```"
   ]
  },
  {
   "cell_type": "markdown",
   "metadata": {},
   "source": [
    "## Function definition and punctuation\n",
    "\n",
    "The syntax for creating a function is:\n",
    "\n",
    "```python\n",
    "def function_name(arg1, arg2, kwarg1=default1):\n",
    "    \"\"\"Docstring goes here -- triple quoted.\"\"\"\n",
    "    pass  # the 'pass' keyword means 'do nothing'\n",
    "    \n",
    "\n",
    "# The next thing unindented statement is outside\n",
    "# of the function. Leave a blank line between the\n",
    "# end of the function and the next statement.\n",
    "```\n",
    "\n",
    "- The **def** keyword begins a function declaration.\n",
    "- The colon (`:`) finishes the signature.\n",
    "- The body must be indented. The indentation must be exactly the same.\n",
    "- There are no curly braces for function bodies in Python — white space at the beginning of a line tells Python that this line is \"inside\" the body of whatever came before it.\n",
    "\n",
    "Also, at the end of a function, leave at least one blank line to separate the thought from the next thing in the script."
   ]
  },
  {
   "cell_type": "code",
   "execution_count": 165,
   "metadata": {},
   "outputs": [],
   "source": [
    "def function_name(arg1, arg2, kwarg1=\"my_default_value\"):\n",
    "    \"\"\"Docstring goes here -- triple quoted.\"\"\"\n",
    "    pass  # the 'pass' keyword means 'do nothing'"
   ]
  },
  {
   "cell_type": "code",
   "execution_count": 166,
   "metadata": {},
   "outputs": [
    {
     "name": "stdout",
     "output_type": "stream",
     "text": [
      "Help on function function_name in module __main__:\n",
      "\n",
      "function_name(arg1, arg2, kwarg1='my_default_value')\n",
      "    Docstring goes here -- triple quoted.\n",
      "\n"
     ]
    }
   ],
   "source": [
    "# See the docstring appear when using `help`\n",
    "help(function_name)"
   ]
  },
  {
   "cell_type": "markdown",
   "metadata": {},
   "source": [
    "## Whitespace matters\n",
    "The 'tab' character **'\\t'** counts as one single character even if it looks like multiple characters in your editor.\n",
    "\n",
    "**But indentation is how you denote nesting!**\n",
    "\n",
    "So, this can seriously mess up your coding. The [Python style guide][pep8] recommends configuring your editor to make the tab keypress type four spaces automatically.\n",
    "\n",
    "To set the spacing for Python code in Sublime, go to **Sublime Text** → **Preferences** → **Settings - More** → **Syntax Specific - User**\n",
    "\n",
    "It will open up the file **Python.sublime-settings**. Please put this inside, then save and close.\n",
    "\n",
    "```\n",
    "{\n",
    "    \"tab_size\": 4,\n",
    "    \"translate_tabs_to_spaces\": true\n",
    "}\n",
    "```\n",
    "\n",
    "[pep8]: https://www.python.org/dev/peps/pep-0008/"
   ]
  },
  {
   "cell_type": "markdown",
   "metadata": {},
   "source": [
    "## Your first function\n",
    "Copy this and paste it in the cell below\n",
    "```python\n",
    "def greet_person(person):\n",
    "    \"\"\"Greet the named person.\n",
    "\n",
    "    usage:\n",
    "        >>> greet_person(\"world\")\n",
    "        hello world\n",
    "    \"\"\"\n",
    "    print('hello', person)\n",
    "```"
   ]
  },
  {
   "cell_type": "code",
   "execution_count": 167,
   "metadata": {
    "collapsed": true
   },
   "outputs": [],
   "source": [
    "# Paste the function definition below:\n"
   ]
  },
  {
   "cell_type": "code",
   "execution_count": 168,
   "metadata": {},
   "outputs": [
    {
     "name": "stdout",
     "output_type": "stream",
     "text": [
      "Help on function greet_person in module __main__:\n",
      "\n",
      "greet_person(person)\n",
      "    Greet the named person.\n",
      "    \n",
      "    usage:\n",
      "        >>> greet_person(\"world\")\n",
      "\n"
     ]
    }
   ],
   "source": [
    "# Here's the help statement\n",
    "help(greet_person)"
   ]
  },
  {
   "cell_type": "code",
   "execution_count": 169,
   "metadata": {},
   "outputs": [
    {
     "name": "stdout",
     "output_type": "stream",
     "text": [
      "hello world\n"
     ]
    }
   ],
   "source": [
    "# And here's the function in action!\n",
    "greet_person(\"world\")"
   ]
  },
  {
   "cell_type": "markdown",
   "metadata": {},
   "source": [
    "## Duck typing\n",
    "Python's philosophy for handling data types is called **duck typing** (If it walks like a duck, and quacks like a duck, it's a duck). Functions do no type checking — they happily process an argument until something breaks. This is great for fast coding but can sometimes make for odd errors. (If you care to specify types, there is a [standard way to do it][pep484], but don't worry about this if you're a beginner.)\n",
    "\n",
    "[pep484]: https://www.python.org/dev/peps/pep-0484/"
   ]
  },
  {
   "cell_type": "markdown",
   "metadata": {},
   "source": [
    "## Challenge for you\n",
    "Create another function named `greet_people` that takes a list of people and greets them all one by one. Hint: you can call the function `greet_person`."
   ]
  },
  {
   "cell_type": "code",
   "execution_count": 170,
   "metadata": {},
   "outputs": [
    {
     "ename": "SyntaxError",
     "evalue": "invalid syntax (<ipython-input-170-01f6ec0f31e4>, line 2)",
     "output_type": "error",
     "traceback": [
      "\u001b[0;36m  File \u001b[0;32m\"<ipython-input-170-01f6ec0f31e4>\"\u001b[0;36m, line \u001b[0;32m2\u001b[0m\n\u001b[0;31m    def greet_people(list_of_people)\u001b[0m\n\u001b[0m                                    ^\u001b[0m\n\u001b[0;31mSyntaxError\u001b[0m\u001b[0;31m:\u001b[0m invalid syntax\n"
     ]
    }
   ],
   "source": [
    "# your function\n",
    "def greet_people(list_of_people)\n",
    "    \"\"\"Documentation string goes here.\"\"\"\n",
    "    # You do it here!\n",
    "    pass"
   ]
  },
  {
   "cell_type": "markdown",
   "metadata": {},
   "source": [
    "### don't peek..."
   ]
  },
  {
   "cell_type": "code",
   "execution_count": 171,
   "metadata": {
    "collapsed": true
   },
   "outputs": [],
   "source": [
    "def greet_people(list_of_people):\n",
    "    for person in list_of_people:\n",
    "        greet_person(person)"
   ]
  },
  {
   "cell_type": "code",
   "execution_count": 172,
   "metadata": {},
   "outputs": [
    {
     "name": "stdout",
     "output_type": "stream",
     "text": [
      "hello world\n",
      "hello awesome python user!\n",
      "hello rockstar!!!\n"
     ]
    }
   ],
   "source": [
    "greet_people([\"world\", \"awesome python user!\", \"rockstar!!!\"])"
   ]
  },
  {
   "cell_type": "markdown",
   "metadata": {},
   "source": [
    "## Quack quack\n",
    "Make a list of all of the people in your group and use your function to greet them:\n",
    "\n",
    "```python\n",
    "people = [\"King Arthur\",\n",
    "          \"Sir Galahad\",\n",
    "          \"Sir Robin\"]\n",
    "greet_people(people)\n",
    "\n",
    "# What do you think will happen if I do:\n",
    "greet_people(\"pyladies\")\n",
    "```"
   ]
  },
  {
   "cell_type": "code",
   "execution_count": 173,
   "metadata": {
    "collapsed": true
   },
   "outputs": [],
   "source": [
    "# Try it!\n"
   ]
  },
  {
   "cell_type": "markdown",
   "metadata": {},
   "source": [
    "## WTW?\n",
    "Remember strings are iterable...\n",
    "\n",
    "\n",
    "<div style=\"text-align:center;\">quack!</div>\n",
    "<div style=\"text-align:right;\">quack!</div>"
   ]
  },
  {
   "cell_type": "markdown",
   "metadata": {},
   "source": [
    "## Whitespace / duck typing takeways\n",
    "\n",
    "- Indentation is how to denote nesting in Python\n",
    "- Do not use tabs; expand them to spaces\n",
    "- If it walks like a duck and quacks like a duck, it's a duck "
   ]
  },
  {
   "cell_type": "markdown",
   "metadata": {},
   "source": [
    "# Control structures\n",
    "\n",
    "### Common comparison operators\n",
    "<table style=\"border:3px solid white;\"><tr>\n",
    "<td><tt>==</tt></td>\n",
    "<td><tt>!=</tt></td>\n",
    "<td><tt>&lt;=</tt> or <tt>&lt;</tt><br/>\n",
    "    <tt>&gt;=</tt> or <tt>&gt;</tt></td>\n",
    "<td><tt>x in (1, 2)</tt></td>\n",
    "<td><tt>x is None<br/>\n",
    "        x is not None</tt></td>\n",
    "</tr><tr style=\"font-size:smaller;\">\n",
    "<td>equals</td>\n",
    "<td>not equals</td>\n",
    "<td>less or<br/>equal, etc.</td>\n",
    "<td>works for sets,<br/>\n",
    "           lists, tuples,<br/>\n",
    "           dictionary keys,<br/>\n",
    "           strings</td>\n",
    "<td>just for <tt>None</tt></td>\n",
    "</tr></table>"
   ]
  },
  {
   "cell_type": "markdown",
   "metadata": {},
   "source": [
    "### If statement\n",
    "\n",
    "The `if` statement checks whether the condition after `if` is true.\n",
    "Note the placement of colons (`:`) and the indentation. These are not optional.\n",
    "\n",
    "- If it is, it does the thing below it.\n",
    "- Otherwise it goes to the next comparison.\n",
    "- You do not need any `elif` or `else` statements if you only\n",
    "  want to do something if your test condition is true.\n",
    "\n",
    "Advanced users, there is no switch statement in Python."
   ]
  },
  {
   "cell_type": "code",
   "execution_count": 174,
   "metadata": {},
   "outputs": [
    {
     "name": "stdout",
     "output_type": "stream",
     "text": [
      "`i` is neither None nor even\n"
     ]
    }
   ],
   "source": [
    "# Standard if / then / else statement.\n",
    "#\n",
    "# Go ahead and change `i`\n",
    "i = 1\n",
    "\n",
    "if i is None:\n",
    "    print(\"None!\")\n",
    "elif i % 2 == 0:\n",
    "    print(\"`i` is an even number!\")\n",
    "else:\n",
    "    print(\"`i` is neither None nor even\")"
   ]
  },
  {
   "cell_type": "code",
   "execution_count": 175,
   "metadata": {},
   "outputs": [
    {
     "data": {
      "text/plain": [
       "'Y'"
      ]
     },
     "execution_count": 175,
     "metadata": {},
     "output_type": "execute_result"
    }
   ],
   "source": [
    "# This format is for very short one-line if / then / else.\n",
    "# It is called a `ternary` statement.\n",
    "#\n",
    "\"Y\" if i==1 else \"N\""
   ]
  },
  {
   "cell_type": "markdown",
   "metadata": {},
   "source": [
    "### While loop\n",
    "\n",
    "The `while` loop requires you to set up something first. Then it\n",
    "tests whether the statement after the `while` is true. \n",
    "Again note the colon (`:`) and the indentation.\n",
    "\n",
    "- If the condition is true, then the body of\n",
    "  the `while` loop will execute\n",
    "- Otherwise it will break out of the loop and go on\n",
    "  to the next code underneath the `while` block"
   ]
  },
  {
   "cell_type": "code",
   "execution_count": 176,
   "metadata": {},
   "outputs": [
    {
     "name": "stdout",
     "output_type": "stream",
     "text": [
      "i is: 0\n",
      "i is: 1\n",
      "i is: 2\n",
      "We exited the loop, and now i is: 3\n"
     ]
    }
   ],
   "source": [
    "i = 0\n",
    "while i < 3:\n",
    "    print(\"i is:\", i)\n",
    "    i += 1\n",
    "\n",
    "print(\"We exited the loop, and now i is:\", i)"
   ]
  },
  {
   "cell_type": "markdown",
   "metadata": {},
   "source": [
    "### For loop\n",
    "\n",
    "The `for` loop iterates over the items after the `for`,\n",
    "executing the body of the loop once per item."
   ]
  },
  {
   "cell_type": "code",
   "execution_count": 177,
   "metadata": {},
   "outputs": [
    {
     "name": "stdout",
     "output_type": "stream",
     "text": [
      "in the for loop. `i` is: 0\n",
      "in the for loop. `i` is: 1\n",
      "in the for loop. `i` is: 2\n",
      "\n",
      "outside the for loop. `i` is: 2\n"
     ]
    }
   ],
   "source": [
    "for i in range(3):\n",
    "    print(\"in the for loop. `i` is:\", i)\n",
    "\n",
    "print()\n",
    "print(\"outside the for loop. `i` is:\", i)"
   ]
  },
  {
   "cell_type": "code",
   "execution_count": 178,
   "metadata": {},
   "outputs": [
    {
     "name": "stdout",
     "output_type": "stream",
     "text": [
      "in the for loop. `element` is: one\n",
      "in the for loop. `element` is: 2\n",
      "in the for loop. `element` is: three\n",
      "\n",
      "outside the for loop. `element` is: three\n"
     ]
    }
   ],
   "source": [
    "# or loop directly over a list or tuple\n",
    "for element in (\"one\", 2, \"three\"):\n",
    "    print(\"in the for loop. `element` is:\", element)\n",
    "\n",
    "print()\n",
    "print(\"outside the for loop. `element` is:\", element)"
   ]
  },
  {
   "cell_type": "markdown",
   "metadata": {},
   "source": [
    "## Challenge for you\n",
    "Please look at this code and think of what will happen, then copy it and run it. We introduce `break` and `continue`...can you tell what they do?\n",
    "\n",
    "- When will it stop?\n",
    "- What will it print out?\n",
    "- What will `i` be at the end?\n",
    "\n",
    "```python\n",
    "for i in range(20):\n",
    "    if i == 15:\n",
    "        break\n",
    "    elif i % 2 == 0:\n",
    "        continue\n",
    "    for j in range(5):\n",
    "        print(i + j, end=\"...\")\n",
    "    print()  # newline\n",
    "```"
   ]
  },
  {
   "cell_type": "code",
   "execution_count": 179,
   "metadata": {},
   "outputs": [],
   "source": [
    "# Paste it here, and run!"
   ]
  },
  {
   "cell_type": "markdown",
   "metadata": {},
   "source": [
    "# You are done, welcome to Python!\n",
    "\n",
    "## ... and you rock!"
   ]
  },
  {
   "cell_type": "markdown",
   "metadata": {},
   "source": [
    "### Now join (or start!) a friendly PyLadies group near you ...\n",
    "\n",
    "[PyLadies locations][locations]\n",
    "[locations]: http://www.pyladies.com/locations/"
   ]
  },
  {
   "cell_type": "code",
   "execution_count": null,
   "metadata": {},
   "outputs": [],
   "source": []
  },
  {
   "cell_type": "code",
   "execution_count": null,
   "metadata": {},
   "outputs": [],
   "source": []
  },
  {
   "cell_type": "markdown",
   "metadata": {},
   "source": [
    "# END"
   ]
  },
  {
   "cell_type": "code",
   "execution_count": null,
   "metadata": {},
   "outputs": [],
   "source": []
  },
  {
   "cell_type": "code",
   "execution_count": null,
   "metadata": {},
   "outputs": [],
   "source": []
  },
  {
   "cell_type": "code",
   "execution_count": null,
   "metadata": {},
   "outputs": [],
   "source": []
  },
  {
   "cell_type": "markdown",
   "metadata": {},
   "source": [
    "## Whitespace Is Important"
   ]
  },
  {
   "cell_type": "code",
   "execution_count": 1,
   "metadata": {},
   "outputs": [
    {
     "name": "stdout",
     "output_type": "stream",
     "text": [
      "1\n",
      "is odd\n",
      "2\n",
      "is even\n",
      "3\n",
      "is odd\n",
      "4\n",
      "is even\n",
      "5\n",
      "is odd\n",
      "6\n",
      "is even\n",
      "All done.\n"
     ]
    }
   ],
   "source": [
    "listOfNumbers = [1, 2, 3, 4, 5, 6]\n",
    "\n",
    "for number in listOfNumbers:\n",
    "    print(number)\n",
    "    if (number % 2 == 0):\n",
    "        print(\"is even\")\n",
    "    else:\n",
    "        print(\"is odd\")\n",
    "        \n",
    "print (\"All done.\")\n",
    "        "
   ]
  },
  {
   "cell_type": "markdown",
   "metadata": {},
   "source": [
    "## Importing Modules"
   ]
  },
  {
   "cell_type": "code",
   "execution_count": 3,
   "metadata": {},
   "outputs": [
    {
     "name": "stdout",
     "output_type": "stream",
     "text": [
      "[31.26585931 25.06898952 29.06449706 27.39149279 23.45070039 21.33745021\n",
      " 21.42466875 24.69530269 25.29028643 31.28998047]\n"
     ]
    }
   ],
   "source": [
    "# pip install numpy\n",
    "import numpy as np\n",
    "\n",
    "A = np.random.normal(25.0, 5.0, 10)\n",
    "print (A)"
   ]
  },
  {
   "cell_type": "markdown",
   "metadata": {},
   "source": [
    "# Data Structures"
   ]
  },
  {
   "cell_type": "markdown",
   "metadata": {},
   "source": [
    "## Lists"
   ]
  },
  {
   "cell_type": "code",
   "execution_count": 21,
   "metadata": {},
   "outputs": [
    {
     "name": "stdout",
     "output_type": "stream",
     "text": [
      "6\n"
     ]
    }
   ],
   "source": [
    "x = [1, 2, 3, 4, 5, 6]\n",
    "print(len(x))"
   ]
  },
  {
   "cell_type": "code",
   "execution_count": 19,
   "metadata": {},
   "outputs": [
    {
     "data": {
      "text/plain": [
       "[1, 2, 3]"
      ]
     },
     "execution_count": 19,
     "metadata": {},
     "output_type": "execute_result"
    }
   ],
   "source": [
    "x[:3]"
   ]
  },
  {
   "cell_type": "code",
   "execution_count": 20,
   "metadata": {},
   "outputs": [
    {
     "data": {
      "text/plain": [
       "[4, 5, 6]"
      ]
     },
     "execution_count": 20,
     "metadata": {},
     "output_type": "execute_result"
    }
   ],
   "source": [
    "x[3:]"
   ]
  },
  {
   "cell_type": "code",
   "execution_count": 8,
   "metadata": {},
   "outputs": [
    {
     "data": {
      "text/plain": [
       "[5, 6]"
      ]
     },
     "execution_count": 8,
     "metadata": {},
     "output_type": "execute_result"
    }
   ],
   "source": [
    "x[-2:] # last elements of the list"
   ]
  },
  {
   "cell_type": "code",
   "execution_count": 9,
   "metadata": {},
   "outputs": [
    {
     "data": {
      "text/plain": [
       "[1, 2, 3, 4, 5, 6, 7, 8]"
      ]
     },
     "execution_count": 9,
     "metadata": {},
     "output_type": "execute_result"
    }
   ],
   "source": [
    "x.extend([7,8]) # add elements to existing list\n",
    "x"
   ]
  },
  {
   "cell_type": "code",
   "execution_count": 10,
   "metadata": {},
   "outputs": [
    {
     "data": {
      "text/plain": [
       "[1, 2, 3, 4, 5, 6, 7, 8, 9]"
      ]
     },
     "execution_count": 10,
     "metadata": {},
     "output_type": "execute_result"
    }
   ],
   "source": [
    "x.append(9) # add only 1 element to a list\n",
    "x"
   ]
  },
  {
   "cell_type": "code",
   "execution_count": 23,
   "metadata": {},
   "outputs": [
    {
     "data": {
      "text/plain": [
       "[[1, 2, 3, 4, 5, 6], [10, 11, 12]]"
      ]
     },
     "execution_count": 23,
     "metadata": {},
     "output_type": "execute_result"
    }
   ],
   "source": [
    "# add list of lists\n",
    "y = [10, 11, 12]\n",
    "listOfLists = [x, y]\n",
    "listOfLists"
   ]
  },
  {
   "cell_type": "code",
   "execution_count": 12,
   "metadata": {},
   "outputs": [
    {
     "data": {
      "text/plain": [
       "11"
      ]
     },
     "execution_count": 12,
     "metadata": {},
     "output_type": "execute_result"
    }
   ],
   "source": [
    "y[1]"
   ]
  },
  {
   "cell_type": "code",
   "execution_count": 25,
   "metadata": {},
   "outputs": [
    {
     "data": {
      "text/plain": [
       "[1, 2, 3]"
      ]
     },
     "execution_count": 25,
     "metadata": {},
     "output_type": "execute_result"
    }
   ],
   "source": [
    "z = [3, 2, 1]\n",
    "z.sort()\n",
    "z"
   ]
  },
  {
   "cell_type": "code",
   "execution_count": 26,
   "metadata": {},
   "outputs": [
    {
     "data": {
      "text/plain": [
       "[3, 2, 1]"
      ]
     },
     "execution_count": 26,
     "metadata": {},
     "output_type": "execute_result"
    }
   ],
   "source": [
    "# sort list\n",
    "z.sort(reverse=True)\n",
    "z"
   ]
  },
  {
   "cell_type": "markdown",
   "metadata": {},
   "source": [
    "## Tuples"
   ]
  },
  {
   "cell_type": "code",
   "execution_count": 15,
   "metadata": {},
   "outputs": [
    {
     "data": {
      "text/plain": [
       "3"
      ]
     },
     "execution_count": 15,
     "metadata": {},
     "output_type": "execute_result"
    }
   ],
   "source": [
    "#Tuples are just immutable (canNOT be changed) lists. Use () instead of []\n",
    "x = (1, 2, 3)\n",
    "len(x)"
   ]
  },
  {
   "cell_type": "code",
   "execution_count": 27,
   "metadata": {},
   "outputs": [
    {
     "data": {
      "text/plain": [
       "6"
      ]
     },
     "execution_count": 27,
     "metadata": {},
     "output_type": "execute_result"
    }
   ],
   "source": [
    "y = (4, 5, 6)\n",
    "y[2]"
   ]
  },
  {
   "cell_type": "code",
   "execution_count": 17,
   "metadata": {},
   "outputs": [
    {
     "data": {
      "text/plain": [
       "[(1, 2, 3), (4, 5, 6)]"
      ]
     },
     "execution_count": 17,
     "metadata": {},
     "output_type": "execute_result"
    }
   ],
   "source": [
    "listOfTuples = [x, y]\n",
    "listOfTuples"
   ]
  },
  {
   "cell_type": "code",
   "execution_count": 30,
   "metadata": {},
   "outputs": [
    {
     "name": "stdout",
     "output_type": "stream",
     "text": [
      "32\n",
      "120000\n"
     ]
    }
   ],
   "source": [
    "# assign multiple fields to variables\n",
    "# If the number of fields does not match the split function, an exception will be dropped\n",
    "(age, income) = \"32,120000\".split(',')\n",
    "print(age)\n",
    "print(income)"
   ]
  },
  {
   "cell_type": "markdown",
   "metadata": {},
   "source": [
    "## Dictionaries"
   ]
  },
  {
   "cell_type": "code",
   "execution_count": 32,
   "metadata": {},
   "outputs": [
    {
     "name": "stdout",
     "output_type": "stream",
     "text": [
      "Janeway\n"
     ]
    }
   ],
   "source": [
    "# Like a map or hash table in other languages\n",
    "captains = {}\n",
    "captains[\"Enterprise\"] = \"Kirk\"\n",
    "captains[\"Enterprise D\"] = \"Picard\"\n",
    "captains[\"Deep Space Nine\"] = \"Sisko\"\n",
    "captains[\"Voyager\"] = \"Janeway\"\n",
    "\n",
    "print(captains[\"Voyager\"])"
   ]
  },
  {
   "cell_type": "code",
   "execution_count": 33,
   "metadata": {},
   "outputs": [
    {
     "name": "stdout",
     "output_type": "stream",
     "text": [
      "Kirk\n"
     ]
    }
   ],
   "source": [
    "print(captains.get(\"Enterprise\"))"
   ]
  },
  {
   "cell_type": "code",
   "execution_count": 34,
   "metadata": {},
   "outputs": [
    {
     "name": "stdout",
     "output_type": "stream",
     "text": [
      "None\n"
     ]
    }
   ],
   "source": [
    "print(captains.get(\"NX-01\")) # value does not exist"
   ]
  },
  {
   "cell_type": "code",
   "execution_count": 35,
   "metadata": {},
   "outputs": [
    {
     "name": "stdout",
     "output_type": "stream",
     "text": [
      "Enterprise: Kirk\n",
      "Enterprise D: Picard\n",
      "Deep Space Nine: Sisko\n",
      "Voyager: Janeway\n"
     ]
    }
   ],
   "source": [
    "for ship in captains:\n",
    "    print(ship + \": \" + captains[ship])"
   ]
  },
  {
   "cell_type": "markdown",
   "metadata": {},
   "source": [
    "## Functions"
   ]
  },
  {
   "cell_type": "code",
   "execution_count": 36,
   "metadata": {},
   "outputs": [
    {
     "name": "stdout",
     "output_type": "stream",
     "text": [
      "4\n"
     ]
    }
   ],
   "source": [
    "def SquareIt(x):\n",
    "    return x * x\n",
    "\n",
    "print(SquareIt(2))\n"
   ]
  },
  {
   "cell_type": "code",
   "execution_count": 37,
   "metadata": {},
   "outputs": [
    {
     "name": "stdout",
     "output_type": "stream",
     "text": [
      "9\n"
     ]
    }
   ],
   "source": [
    "#You can pass functions around as parameters\n",
    "def DoSomething(f, x):\n",
    "    return f(x)\n",
    "\n",
    "print(DoSomething(SquareIt, 3))"
   ]
  },
  {
   "cell_type": "code",
   "execution_count": 38,
   "metadata": {},
   "outputs": [
    {
     "name": "stdout",
     "output_type": "stream",
     "text": [
      "27\n"
     ]
    }
   ],
   "source": [
    "#Lambda functions let you inline simple functions\n",
    "print(DoSomething(lambda x: x * x * x, 3))"
   ]
  },
  {
   "cell_type": "markdown",
   "metadata": {},
   "source": [
    "## Boolean Expressions"
   ]
  },
  {
   "cell_type": "code",
   "execution_count": 26,
   "metadata": {},
   "outputs": [
    {
     "name": "stdout",
     "output_type": "stream",
     "text": [
      "False\n"
     ]
    }
   ],
   "source": [
    "print(1 == 3)"
   ]
  },
  {
   "cell_type": "code",
   "execution_count": 27,
   "metadata": {},
   "outputs": [
    {
     "name": "stdout",
     "output_type": "stream",
     "text": [
      "True\n"
     ]
    }
   ],
   "source": [
    "print(True or False)"
   ]
  },
  {
   "cell_type": "code",
   "execution_count": 28,
   "metadata": {},
   "outputs": [
    {
     "name": "stdout",
     "output_type": "stream",
     "text": [
      "False\n"
     ]
    }
   ],
   "source": [
    "print(1 is 3)"
   ]
  },
  {
   "cell_type": "code",
   "execution_count": 29,
   "metadata": {},
   "outputs": [
    {
     "name": "stdout",
     "output_type": "stream",
     "text": [
      "All is well with the world\n"
     ]
    }
   ],
   "source": [
    "if 1 is 3:\n",
    "    print(\"How did that happen?\")\n",
    "elif 1 > 3:\n",
    "    print(\"Yikes\")\n",
    "else:\n",
    "    print(\"All is well with the world\")"
   ]
  },
  {
   "cell_type": "markdown",
   "metadata": {},
   "source": [
    "## Looping"
   ]
  },
  {
   "cell_type": "code",
   "execution_count": 30,
   "metadata": {},
   "outputs": [
    {
     "name": "stdout",
     "output_type": "stream",
     "text": [
      "0\n",
      "1\n",
      "2\n",
      "3\n",
      "4\n",
      "5\n",
      "6\n",
      "7\n",
      "8\n",
      "9\n"
     ]
    }
   ],
   "source": [
    "for x in range(10):\n",
    "    print(x)"
   ]
  },
  {
   "cell_type": "code",
   "execution_count": 31,
   "metadata": {},
   "outputs": [
    {
     "name": "stdout",
     "output_type": "stream",
     "text": [
      "0\n",
      "2\n",
      "3\n",
      "4\n",
      "5\n"
     ]
    }
   ],
   "source": [
    "for x in range(10):\n",
    "    if (x is 1):\n",
    "        continue\n",
    "    if (x > 5):\n",
    "        break\n",
    "    print(x)"
   ]
  },
  {
   "cell_type": "code",
   "execution_count": 32,
   "metadata": {},
   "outputs": [
    {
     "name": "stdout",
     "output_type": "stream",
     "text": [
      "0\n",
      "1\n",
      "2\n",
      "3\n",
      "4\n",
      "5\n",
      "6\n",
      "7\n",
      "8\n",
      "9\n"
     ]
    }
   ],
   "source": [
    "x = 0\n",
    "while (x < 10):\n",
    "    print(x)\n",
    "    x += 1"
   ]
  },
  {
   "cell_type": "markdown",
   "metadata": {},
   "source": [
    "## Activity"
   ]
  },
  {
   "cell_type": "markdown",
   "metadata": {},
   "source": [
    "Write some code that creates a list of integers, loops through each element of the list, and only prints out even numbers!"
   ]
  },
  {
   "cell_type": "code",
   "execution_count": 40,
   "metadata": {},
   "outputs": [
    {
     "name": "stdout",
     "output_type": "stream",
     "text": [
      "1\n",
      "is odd\n",
      "2\n",
      "is even\n",
      "3\n",
      "is odd\n",
      "4\n",
      "is even\n",
      "5\n",
      "is odd\n",
      "6\n",
      "is even\n",
      "All done.\n"
     ]
    }
   ],
   "source": [
    "listOfNumbers = x[:10]\n",
    "\n",
    "for number in listOfNumbers:\n",
    "    print(number)\n",
    "    if (number % 2 == 0):\n",
    "        print(\"is even\")\n",
    "    else:\n",
    "        print(\"is odd\")\n",
    "        \n",
    "print (\"All done.\")\n",
    "        "
   ]
  },
  {
   "cell_type": "markdown",
   "metadata": {},
   "source": [
    "## Run Python Script"
   ]
  },
  {
   "cell_type": "code",
   "execution_count": null,
   "metadata": {},
   "outputs": [],
   "source": [
    "# 1. Run code in jupyter script"
   ]
  },
  {
   "cell_type": "code",
   "execution_count": null,
   "metadata": {},
   "outputs": [],
   "source": [
    "# 2. Run in cmd:"
   ]
  },
  {
   "cell_type": "markdown",
   "metadata": {},
   "source": [
    "`python test.py`"
   ]
  },
  {
   "cell_type": "markdown",
   "metadata": {},
   "source": [
    "<div style=\"font-size:80%;color:#333333;text-align:center;\">\n",
    "<h4>Psst...contribute to this repo!</h4>\n",
    "\n",
    "<span style=\"font-size:70%;\">\n",
    "Here is the \n",
    "<a href=\"https://github.com/jupyter/docker-demo-images\">\n",
    "link to the github repo that hosts these\n",
    "</a>.\n",
    "Make them better!\n",
    "</span>\n",
    "</div>"
   ]
  }
 ],
 "metadata": {
  "kernelspec": {
   "display_name": "Python 3",
   "language": "python",
   "name": "python3"
  },
  "language_info": {
   "codemirror_mode": {
    "name": "ipython",
    "version": 3
   },
   "file_extension": ".py",
   "mimetype": "text/x-python",
   "name": "python",
   "nbconvert_exporter": "python",
   "pygments_lexer": "ipython3",
   "version": "3.7.0"
  }
 },
 "nbformat": 4,
 "nbformat_minor": 1
}
