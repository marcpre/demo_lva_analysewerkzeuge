{
 "cells": [
  {
   "cell_type": "markdown",
   "metadata": {},
   "source": [
    "# Python 101"
   ]
  },
  {
   "cell_type": "markdown",
   "metadata": {},
   "source": [
    "## Basics"
   ]
  },
  {
   "cell_type": "markdown",
   "metadata": {},
   "source": [
    "### Expression"
   ]
  },
  {
   "cell_type": "code",
   "execution_count": 1,
   "metadata": {},
   "outputs": [
    {
     "data": {
      "text/plain": [
       "13"
      ]
     },
     "execution_count": 1,
     "metadata": {},
     "output_type": "execute_result"
    }
   ],
   "source": [
    "1 + 4 * 3"
   ]
  },
  {
   "cell_type": "code",
   "execution_count": 2,
   "metadata": {},
   "outputs": [
    {
     "data": {
      "text/plain": [
       "16"
      ]
     },
     "execution_count": 2,
     "metadata": {},
     "output_type": "execute_result"
    }
   ],
   "source": [
    "(1 + 3) * 4 "
   ]
  },
  {
   "cell_type": "markdown",
   "metadata": {},
   "source": [
    "### Variable"
   ]
  },
  {
   "cell_type": "code",
   "execution_count": 6,
   "metadata": {},
   "outputs": [
    {
     "name": "stdout",
     "output_type": "stream",
     "text": [
      "5\n",
      "3.14\n"
     ]
    }
   ],
   "source": [
    "x = 5 # Variable vom Typ Integer(Ganze Zahl)\n",
    "y = 3.14 # Variable vom Typ Float(Fließkommazahl)\n",
    "print(x)\n",
    "print(y)"
   ]
  },
  {
   "cell_type": "markdown",
   "metadata": {},
   "source": [
    "## Datatypes"
   ]
  },
  {
   "cell_type": "markdown",
   "metadata": {},
   "source": [
    "### Integer (Ganze Zahl)"
   ]
  },
  {
   "cell_type": "code",
   "execution_count": 12,
   "metadata": {},
   "outputs": [
    {
     "name": "stdout",
     "output_type": "stream",
     "text": [
      "123123123123123123123123123123123123123123123124\n",
      "10\n"
     ]
    }
   ],
   "source": [
    "print(123123123123123123123123123123123123123123123123 + 1)\n",
    "print(10)"
   ]
  },
  {
   "cell_type": "markdown",
   "metadata": {},
   "source": [
    "Der zugrunde liegende Typ ist Integer, unabhängig von der Basis - zBsp.: Binär, Oktal, and Hexadezimal - die der Zahl zugrunde liegt:"
   ]
  },
  {
   "cell_type": "code",
   "execution_count": 1,
   "metadata": {},
   "outputs": [
    {
     "data": {
      "text/plain": [
       "int"
      ]
     },
     "execution_count": 1,
     "metadata": {},
     "output_type": "execute_result"
    }
   ],
   "source": [
    "type(10)"
   ]
  },
  {
   "cell_type": "code",
   "execution_count": 2,
   "metadata": {},
   "outputs": [
    {
     "data": {
      "text/plain": [
       "int"
      ]
     },
     "execution_count": 2,
     "metadata": {},
     "output_type": "execute_result"
    }
   ],
   "source": [
    "type(0o10)"
   ]
  },
  {
   "cell_type": "code",
   "execution_count": 3,
   "metadata": {},
   "outputs": [
    {
     "data": {
      "text/plain": [
       "int"
      ]
     },
     "execution_count": 3,
     "metadata": {},
     "output_type": "execute_result"
    }
   ],
   "source": [
    "type(0x10)"
   ]
  },
  {
   "cell_type": "markdown",
   "metadata": {},
   "source": [
    "### Float (Fließkommazahl)"
   ]
  },
  {
   "cell_type": "code",
   "execution_count": 18,
   "metadata": {},
   "outputs": [
    {
     "data": {
      "text/plain": [
       "4.2"
      ]
     },
     "execution_count": 18,
     "metadata": {},
     "output_type": "execute_result"
    }
   ],
   "source": [
    "4.2"
   ]
  },
  {
   "cell_type": "code",
   "execution_count": 19,
   "metadata": {},
   "outputs": [
    {
     "data": {
      "text/plain": [
       "float"
      ]
     },
     "execution_count": 19,
     "metadata": {},
     "output_type": "execute_result"
    }
   ],
   "source": [
    "type(4.2)"
   ]
  },
  {
   "cell_type": "code",
   "execution_count": 20,
   "metadata": {},
   "outputs": [
    {
     "data": {
      "text/plain": [
       "4.0"
      ]
     },
     "execution_count": 20,
     "metadata": {},
     "output_type": "execute_result"
    }
   ],
   "source": [
    "4."
   ]
  },
  {
   "cell_type": "code",
   "execution_count": 21,
   "metadata": {},
   "outputs": [
    {
     "data": {
      "text/plain": [
       "0.2"
      ]
     },
     "execution_count": 21,
     "metadata": {},
     "output_type": "execute_result"
    }
   ],
   "source": [
    ".2"
   ]
  },
  {
   "cell_type": "code",
   "execution_count": 23,
   "metadata": {},
   "outputs": [
    {
     "data": {
      "text/plain": [
       "4000000.0"
      ]
     },
     "execution_count": 23,
     "metadata": {},
     "output_type": "execute_result"
    }
   ],
   "source": [
    ".4e7"
   ]
  },
  {
   "cell_type": "code",
   "execution_count": 22,
   "metadata": {},
   "outputs": [
    {
     "data": {
      "text/plain": [
       "float"
      ]
     },
     "execution_count": 22,
     "metadata": {},
     "output_type": "execute_result"
    }
   ],
   "source": [
    "type(.4e7)"
   ]
  },
  {
   "cell_type": "code",
   "execution_count": 24,
   "metadata": {},
   "outputs": [
    {
     "data": {
      "text/plain": [
       "0.00042"
      ]
     },
     "execution_count": 24,
     "metadata": {},
     "output_type": "execute_result"
    }
   ],
   "source": [
    "4.2e-4"
   ]
  },
  {
   "cell_type": "markdown",
   "metadata": {},
   "source": [
    "#### Challenge: Float\n",
    "Konvertiere die Fließkommazahl 3.1456 in eine ganze Zahl."
   ]
  },
  {
   "cell_type": "markdown",
   "metadata": {},
   "source": [
    "#### Lösung:"
   ]
  },
  {
   "cell_type": "code",
   "execution_count": 47,
   "metadata": {},
   "outputs": [
    {
     "name": "stdout",
     "output_type": "stream",
     "text": [
      "3\n",
      "<class 'int'>\n"
     ]
    }
   ],
   "source": [
    "\n",
    "\n",
    "\n",
    "\n",
    "\n",
    "\n",
    "\n",
    "\n",
    "\n",
    "\n",
    "\n",
    "\n",
    "\n",
    "\n",
    "\n",
    "\n",
    "\n",
    "\n",
    "\n",
    "\n",
    "\n",
    "\n",
    "\n",
    "\n",
    "\n",
    "\n",
    "x = 3.1456\n",
    "y = int(x)\n",
    "print(y)\n",
    "print(type(y))"
   ]
  },
  {
   "cell_type": "markdown",
   "metadata": {},
   "source": [
    "### Strings (Zeichenketten)"
   ]
  },
  {
   "cell_type": "code",
   "execution_count": 1,
   "metadata": {},
   "outputs": [
    {
     "name": "stdout",
     "output_type": "stream",
     "text": [
      "Hello World\n"
     ]
    }
   ],
   "source": [
    "print(\"Hello World\")  "
   ]
  },
  {
   "cell_type": "code",
   "execution_count": 2,
   "metadata": {},
   "outputs": [
    {
     "data": {
      "text/plain": [
       "str"
      ]
     },
     "execution_count": 2,
     "metadata": {},
     "output_type": "execute_result"
    }
   ],
   "source": [
    "type(\"Hello World\")"
   ]
  },
  {
   "cell_type": "code",
   "execution_count": 3,
   "metadata": {},
   "outputs": [
    {
     "data": {
      "text/plain": [
       "''"
      ]
     },
     "execution_count": 3,
     "metadata": {},
     "output_type": "execute_result"
    }
   ],
   "source": [
    "'' # ein leerer String"
   ]
  },
  {
   "cell_type": "code",
   "execution_count": 4,
   "metadata": {},
   "outputs": [
    {
     "ename": "SyntaxError",
     "evalue": "invalid syntax (<ipython-input-4-c857d5cf62e8>, line 1)",
     "output_type": "error",
     "traceback": [
      "\u001b[0;36m  File \u001b[0;32m\"<ipython-input-4-c857d5cf62e8>\"\u001b[0;36m, line \u001b[0;32m1\u001b[0m\n\u001b[0;31m    print('Hello World (') !.')\u001b[0m\n\u001b[0m                           ^\u001b[0m\n\u001b[0;31mSyntaxError\u001b[0m\u001b[0;31m:\u001b[0m invalid syntax\n"
     ]
    }
   ],
   "source": [
    "print('Hello World (') !.') "
   ]
  },
  {
   "cell_type": "markdown",
   "metadata": {},
   "source": [
    "### Challenge:Strings\n",
    "\n",
    "Verwenden Sie nur die String-Addition (Verkettung) und die Funktion `str.join`, kombinieren Sie` declaration` und `sayings`:\n",
    "\n",
    "```python\n",
    "declaration = \"\\\"Wen fliegen über Fliegen fliegen :\\n\"\n",
    "sayings = ['\"fliegen\"'] * 3 + ['\"nach\\\"\"']\n",
    "# the (\\') escapes the quote\n",
    "```\n",
    "\n",
    "zu einer Variablen, `sentence`, die, wenn gedruckt, dies tut:\n",
    "\n",
    "```python\n",
    ">>> print(sentence)\n",
    "Wenn fliegen über Fliegen:\n",
    "\"fliegen\", \"fliegen\", \"fliegen\", \"nach\"!\n",
    "```"
   ]
  },
  {
   "cell_type": "markdown",
   "metadata": {},
   "source": [
    "### Lösung: Strings"
   ]
  },
  {
   "cell_type": "code",
   "execution_count": 6,
   "metadata": {},
   "outputs": [
    {
     "name": "stdout",
     "output_type": "stream",
     "text": [
      "Wenn fliegen über Fliegen:\n",
      "\"fliegen\", \"fliegen\", \"fliegen\", \"nach\"!\n",
      "\n"
     ]
    }
   ],
   "source": [
    "\n",
    "\n",
    "\n",
    "\n",
    "\n",
    "\n",
    "\n",
    "\n",
    "\n",
    "\n",
    "\n",
    "\n",
    "\n",
    "\n",
    "\n",
    "\n",
    "\n",
    "\n",
    "\n",
    "declaration = \"Wenn fliegen über Fliegen:\\n\"\n",
    "sayings = ['\"fliegen\"'] * 3 + ['\"nach\"']\n",
    "\n",
    "sentence = declaration + \", \".join(sayings) + \"!\"\n",
    "print(sentence)\n",
    "print()    # empty 'print' makes a newline"
   ]
  },
  {
   "cell_type": "markdown",
   "metadata": {},
   "source": [
    "#### Escape-Sequenzen"
   ]
  },
  {
   "cell_type": "code",
   "execution_count": 5,
   "metadata": {},
   "outputs": [
    {
     "name": "stdout",
     "output_type": "stream",
     "text": [
      "Hello World (') !\n"
     ]
    }
   ],
   "source": [
    "print('Hello World (\\') !')"
   ]
  },
  {
   "cell_type": "code",
   "execution_count": 6,
   "metadata": {},
   "outputs": [
    {
     "name": "stdout",
     "output_type": "stream",
     "text": [
      "Hello\tthere\n",
      "How are you?\n"
     ]
    }
   ],
   "source": [
    "print(\"Hello\\tthere\\nHow are you?\") # 'tab' und 'new line'"
   ]
  },
  {
   "cell_type": "markdown",
   "metadata": {},
   "source": [
    "### String Formattierung\n",
    "Es gibt eine Reihe von Möglichkeiten, Zeichenketten zu formattieren:\n",
    "\n",
    "- C-style:\n",
    "```python\n",
    "\"%s is: %.3f (or %d in Indiana)\" % \\\n",
    "        (\"Pi\", math.pi, math.pi)\n",
    "# %s = string\n",
    "# %0.3f = floating point number, 3 places to the left of the decimal\n",
    "# %d = decimal number\n",
    "#\n",
    "# Style notes:\n",
    "#     Line continuation with '\\' works but\n",
    "#     is frowned upon. Indent twice\n",
    "#     (8 spaces) so it doesn't look\n",
    "#     like a control statement\n",
    "```"
   ]
  },
  {
   "cell_type": "code",
   "execution_count": 7,
   "metadata": {
    "scrolled": true
   },
   "outputs": [
    {
     "name": "stdout",
     "output_type": "stream",
     "text": [
      "Pi is: 3.142 (well, 3 on Mars)\n"
     ]
    }
   ],
   "source": [
    "import math\n",
    "print(\"%s is: %.3f (well, %d on Mars)\" % (\"Pi\", math.pi, math.pi))"
   ]
  },
  {
   "cell_type": "code",
   "execution_count": 8,
   "metadata": {},
   "outputs": [
    {
     "name": "stdout",
     "output_type": "stream",
     "text": [
      "Pi is: 3.141592653589793 (3.14 truncated)\n"
     ]
    }
   ],
   "source": [
    "# Anzahl der Dezimalstellen die gezeigt werden sollen, können per '.' kontrolliert werden\n",
    "print(\"{0} is: {1} ({1:.3} truncated)\".format(\"Pi\", math.pi))"
   ]
  },
  {
   "cell_type": "code",
   "execution_count": 9,
   "metadata": {},
   "outputs": [
    {
     "name": "stdout",
     "output_type": "stream",
     "text": [
      "Pi is: 003.1\n"
     ]
    }
   ],
   "source": [
    "# Go to town -- change the decimal places!\n",
    "print(\"{pi} is: {pie:05.2}\".format(pi=\"Pi\", pie=math.pi))"
   ]
  },
  {
   "cell_type": "markdown",
   "metadata": {},
   "source": [
    "### Boolean (Wahrheitswerte)"
   ]
  },
  {
   "cell_type": "code",
   "execution_count": 34,
   "metadata": {},
   "outputs": [
    {
     "data": {
      "text/plain": [
       "bool"
      ]
     },
     "execution_count": 34,
     "metadata": {},
     "output_type": "execute_result"
    }
   ],
   "source": [
    "type(True)"
   ]
  },
  {
   "cell_type": "code",
   "execution_count": 35,
   "metadata": {},
   "outputs": [
    {
     "data": {
      "text/plain": [
       "bool"
      ]
     },
     "execution_count": 35,
     "metadata": {},
     "output_type": "execute_result"
    }
   ],
   "source": [
    "type(False)"
   ]
  },
  {
   "cell_type": "markdown",
   "metadata": {},
   "source": [
    "### Complex Numbers (Komplexe Zahlen)"
   ]
  },
  {
   "cell_type": "code",
   "execution_count": 36,
   "metadata": {},
   "outputs": [
    {
     "data": {
      "text/plain": [
       "(2+3j)"
      ]
     },
     "execution_count": 36,
     "metadata": {},
     "output_type": "execute_result"
    }
   ],
   "source": [
    "2+3j"
   ]
  },
  {
   "cell_type": "code",
   "execution_count": 37,
   "metadata": {},
   "outputs": [
    {
     "data": {
      "text/plain": [
       "complex"
      ]
     },
     "execution_count": 37,
     "metadata": {},
     "output_type": "execute_result"
    }
   ],
   "source": [
    "type(2+3j)"
   ]
  },
  {
   "cell_type": "markdown",
   "metadata": {},
   "source": [
    "## Arithmetische Ausdrücke"
   ]
  },
  {
   "cell_type": "code",
   "execution_count": 40,
   "metadata": {},
   "outputs": [
    {
     "data": {
      "text/plain": [
       "14766"
      ]
     },
     "execution_count": 40,
     "metadata": {},
     "output_type": "execute_result"
    }
   ],
   "source": [
    "12783 + 1983 # Addition"
   ]
  },
  {
   "cell_type": "code",
   "execution_count": 39,
   "metadata": {},
   "outputs": [
    {
     "data": {
      "text/plain": [
       "10800"
      ]
     },
     "execution_count": 39,
     "metadata": {},
     "output_type": "execute_result"
    }
   ],
   "source": [
    "12783 - 1983 # Subtraktion"
   ]
  },
  {
   "cell_type": "code",
   "execution_count": 41,
   "metadata": {},
   "outputs": [
    {
     "data": {
      "text/plain": [
       "25348689"
      ]
     },
     "execution_count": 41,
     "metadata": {},
     "output_type": "execute_result"
    }
   ],
   "source": [
    "12783 * 1983 # Multiplikation"
   ]
  },
  {
   "cell_type": "code",
   "execution_count": 42,
   "metadata": {},
   "outputs": [
    {
     "data": {
      "text/plain": [
       "6.446293494704992"
      ]
     },
     "execution_count": 42,
     "metadata": {},
     "output_type": "execute_result"
    }
   ],
   "source": [
    "12783 / 1983 # Division"
   ]
  },
  {
   "cell_type": "code",
   "execution_count": 43,
   "metadata": {},
   "outputs": [
    {
     "data": {
      "text/plain": [
       "885"
      ]
     },
     "execution_count": 43,
     "metadata": {},
     "output_type": "execute_result"
    }
   ],
   "source": [
    "12783 % 1983 # Rest bei Division"
   ]
  },
  {
   "cell_type": "code",
   "execution_count": 45,
   "metadata": {},
   "outputs": [
    {
     "data": {
      "text/plain": [
       "9"
      ]
     },
     "execution_count": 45,
     "metadata": {},
     "output_type": "execute_result"
    }
   ],
   "source": [
    "3 ** 2 # Exponent"
   ]
  },
  {
   "cell_type": "markdown",
   "metadata": {},
   "source": [
    "## Kontrollstrukturen"
   ]
  },
  {
   "cell_type": "markdown",
   "metadata": {},
   "source": [
    "### Gängige Vergleichs Operatoren\n",
    "\n",
    "<table style=\"border:3px solid white;\"><tr>\n",
    "<td><tt>==</tt></td>\n",
    "<td><tt>!=</tt></td>\n",
    "<td><tt>&lt;=</tt> or <tt>&lt;</tt><br/>\n",
    "    <tt>&gt;=</tt> or <tt>&gt;</tt></td>\n",
    "<td><tt>x in (1, 2)</tt></td>\n",
    "<td><tt>x is None<br/>\n",
    "        x is not None</tt></td>\n",
    "</tr><tr style=\"font-size:smaller;\">\n",
    "<td>equals</td>\n",
    "<td>not equals</td>\n",
    "<td>less or<br/>equal, etc.</td>\n",
    "<td>works for sets,<br/>\n",
    "           lists, tuples,<br/>\n",
    "           dictionary keys,<br/>\n",
    "           strings</td>\n",
    "<td>just for <tt>None</tt></td>\n",
    "</tr></table>"
   ]
  },
  {
   "cell_type": "markdown",
   "metadata": {},
   "source": [
    "### If"
   ]
  },
  {
   "cell_type": "code",
   "execution_count": 10,
   "metadata": {},
   "outputs": [
    {
     "name": "stdout",
     "output_type": "stream",
     "text": [
      "Your application is accepted.\n"
     ]
    }
   ],
   "source": [
    "note = 3.4\n",
    "if note > 2.0:\n",
    "    print (\"Your application is accepted.\")"
   ]
  },
  {
   "cell_type": "markdown",
   "metadata": {},
   "source": [
    "### Else"
   ]
  },
  {
   "cell_type": "code",
   "execution_count": 51,
   "metadata": {},
   "outputs": [
    {
     "name": "stdout",
     "output_type": "stream",
     "text": [
      "Your application is denied.\n"
     ]
    }
   ],
   "source": [
    "gpa = 1.4\n",
    "if gpa > 2.0:\n",
    "    print (\"Welcome to Mars University!\")\n",
    "else:\n",
    "    print (\"Your application is denied.\")\n"
   ]
  },
  {
   "cell_type": "markdown",
   "metadata": {},
   "source": [
    "### Elif"
   ]
  },
  {
   "cell_type": "code",
   "execution_count": 53,
   "metadata": {},
   "outputs": [
    {
     "name": "stdout",
     "output_type": "stream",
     "text": [
      "Please take the entry test\n"
     ]
    }
   ],
   "source": [
    "gpa = 2.1\n",
    "if gpa > 1.0:\n",
    "    print (\"Please take the entry test\")\n",
    "elif gpa > 3.0:\n",
    "    print (\"Welcome to Mars University!\")\n",
    "else:\n",
    "    print (\"Your application is denied.\")\n"
   ]
  },
  {
   "cell_type": "markdown",
   "metadata": {},
   "source": [
    "### Pass"
   ]
  },
  {
   "cell_type": "code",
   "execution_count": 58,
   "metadata": {},
   "outputs": [
    {
     "name": "stdout",
     "output_type": "stream",
     "text": [
      "End of Program\n"
     ]
    }
   ],
   "source": [
    "a = 3\n",
    "if a < 5:\n",
    "    pass  # ignores the if-else part\n",
    "else:\n",
    "    print(\"a is greater or equal to 5\")\n",
    "print (\"End of Program\")"
   ]
  },
  {
   "cell_type": "markdown",
   "metadata": {},
   "source": [
    "### Challenge: If/Else"
   ]
  },
  {
   "cell_type": "markdown",
   "metadata": {},
   "source": [
    "Schreibe ein Programm, das die Wurzel aus einer Zahl zieht.\n",
    "Angenommen, die folgende Eingabe wird an das Programm übergeben:\n",
    "\n",
    "4\n",
    "\n",
    "Dann sollte die Ausgabe sein:\n",
    "\n",
    "2\n",
    "\n",
    "Sofern die geprüfte Zahl \"\" ist, soll \"Bitte Zahl eingeben\" zurückgegeben werden\n",
    "\n",
    "Hinweis: Verwende die math.sqrt() Funktion zur berechnung der Wurzel."
   ]
  },
  {
   "cell_type": "markdown",
   "metadata": {},
   "source": [
    "### Lösung"
   ]
  },
  {
   "cell_type": "code",
   "execution_count": 54,
   "metadata": {},
   "outputs": [
    {
     "name": "stdout",
     "output_type": "stream",
     "text": [
      "2.0\n"
     ]
    }
   ],
   "source": [
    "\n",
    "\n",
    "\n",
    "\n",
    "\n",
    "\n",
    "\n",
    "\n",
    "\n",
    "\n",
    "\n",
    "\n",
    "\n",
    "\n",
    "\n",
    "\n",
    "\n",
    "\n",
    "x = 4\n",
    "\n",
    "if x == \"\":\n",
    "    y = \"Bitte Zahl eingeben\"\n",
    "else:\n",
    "    y = math.sqrt(x)\n",
    "\n",
    "print(y)"
   ]
  },
  {
   "cell_type": "markdown",
   "metadata": {},
   "source": [
    "## Schleifen"
   ]
  },
  {
   "cell_type": "markdown",
   "metadata": {},
   "source": [
    "### While Schleife"
   ]
  },
  {
   "cell_type": "code",
   "execution_count": 59,
   "metadata": {},
   "outputs": [
    {
     "name": "stdout",
     "output_type": "stream",
     "text": [
      "i is: 0\n",
      "i is: 1\n",
      "i is: 2\n",
      "We exited the loop, and now i is: 3\n"
     ]
    }
   ],
   "source": [
    "i = 0\n",
    "while i < 3:\n",
    "    print(\"i is:\", i)\n",
    "    i += 1\n",
    "\n",
    "print(\"We exited the loop, and now i is:\", i)"
   ]
  },
  {
   "cell_type": "markdown",
   "metadata": {},
   "source": [
    "### For Schleife"
   ]
  },
  {
   "cell_type": "code",
   "execution_count": 60,
   "metadata": {
    "scrolled": true
   },
   "outputs": [
    {
     "name": "stdout",
     "output_type": "stream",
     "text": [
      "in the for loop. `i` is: 0\n",
      "in the for loop. `i` is: 1\n",
      "in the for loop. `i` is: 2\n",
      "\n",
      "outside the for loop. `i` is: 2\n"
     ]
    }
   ],
   "source": [
    "for i in range(3):\n",
    "    print(\"in the for loop. `i` is:\", i)\n",
    "\n",
    "print()\n",
    "print(\"outside the for loop. `i` is:\", i)"
   ]
  },
  {
   "cell_type": "code",
   "execution_count": 61,
   "metadata": {},
   "outputs": [
    {
     "name": "stdout",
     "output_type": "stream",
     "text": [
      "in the for loop. `element` is: one\n",
      "in the for loop. `element` is: 2\n",
      "in the for loop. `element` is: three\n",
      "\n",
      "outside the for loop. `element` is: three\n"
     ]
    }
   ],
   "source": [
    "# or loop directly over a list or tuple\n",
    "for element in (\"one\", 2, \"three\"):\n",
    "    print(\"in the for loop. `element` is:\", element)\n",
    "\n",
    "print()\n",
    "print(\"outside the for loop. `element` is:\", element)"
   ]
  },
  {
   "cell_type": "markdown",
   "metadata": {},
   "source": [
    "### Challenge: Schleifen I\n",
    "Bitte schauen Sie sich diesen Code an und überlegen Sie, was passieren wird, kopieren Sie ihn dann und führen Sie ihn aus. Wir stellen `break` und` continue` vor ... kannst du erzählen was die machen?\n",
    "\n",
    "- Wann wird es aufhören?\n",
    "- Was wird gedruckt?\n",
    "- Was wird \"i\" am Ende sein?\n",
    "\n",
    "```python\n",
    "for i in range(20):\n",
    "    if i == 15:\n",
    "        break\n",
    "    elif i % 2 == 0:\n",
    "        continue\n",
    "    for j in range(5):\n",
    "        print(i + j, end=\"...\")\n",
    "    print()  # newline\n",
    "```"
   ]
  },
  {
   "cell_type": "markdown",
   "metadata": {},
   "source": [
    "### Solution:"
   ]
  },
  {
   "cell_type": "code",
   "execution_count": 66,
   "metadata": {},
   "outputs": [
    {
     "name": "stdout",
     "output_type": "stream",
     "text": [
      "1...2...3...4...5...\n",
      "3...4...5...6...7...\n",
      "5...6...7...8...9...\n",
      "7...8...9...10...11...\n",
      "9...10...11...12...13...\n",
      "11...12...13...14...15...\n",
      "13...14...15...16...17...\n"
     ]
    }
   ],
   "source": [
    "\n",
    "\n",
    "\n",
    "\n",
    "\n",
    "\n",
    "\n",
    "\n",
    "\n",
    "\n",
    "\n",
    "\n",
    "\n",
    "for i in range(20):\n",
    "    if i == 15:\n",
    "        break\n",
    "    elif i % 2 == 0:\n",
    "        continue\n",
    "    for j in range(5):\n",
    "        print(i + j, end=\"...\")\n",
    "    print()  # newline"
   ]
  },
  {
   "cell_type": "markdown",
   "metadata": {},
   "source": [
    "### Challenge: Schleifen II\n",
    "Schreibe ein Programm, das alle Zahlen findet, die durch 7 teilbar sind, aber kein Vielfaches von 5 sind, zwischen 2000 und 3200 (beide enthalten).\n",
    "Die erhaltenen Zahlen sollten in einer durch Kommas getrennten Reihenfolge in einer einzigen Zeile gedruckt werden."
   ]
  },
  {
   "cell_type": "markdown",
   "metadata": {},
   "source": [
    "### Solution:"
   ]
  },
  {
   "cell_type": "code",
   "execution_count": 40,
   "metadata": {},
   "outputs": [
    {
     "name": "stdout",
     "output_type": "stream",
     "text": [
      "2002, 2009, 2016, 2023, 2037, 2044, 2051, 2058, 2072, 2079, 2086, 2093, 2107, 2114, 2121, 2128, 2142, 2149, 2156, 2163, 2177, 2184, 2191, 2198, 2212, 2219, 2226, 2233, 2247, 2254, 2261, 2268, 2282, 2289, 2296, 2303, 2317, 2324, 2331, 2338, 2352, 2359, 2366, 2373, 2387, 2394, 2401, 2408, 2422, 2429, 2436, 2443, 2457, 2464, 2471, 2478, 2492, 2499, 2506, 2513, 2527, 2534, 2541, 2548, 2562, 2569, 2576, 2583, 2597, 2604, 2611, 2618, 2632, 2639, 2646, 2653, 2667, 2674, 2681, 2688, 2702, 2709, 2716, 2723, 2737, 2744, 2751, 2758, 2772, 2779, 2786, 2793, 2807, 2814, 2821, 2828, 2842, 2849, 2856, 2863, 2877, 2884, 2891, 2898, 2912, 2919, 2926, 2933, 2947, 2954, 2961, 2968, 2982, 2989, 2996, 3003, 3017, 3024, 3031, 3038, 3052, 3059, 3066, 3073, 3087, 3094, 3101, 3108, 3122, 3129, 3136, 3143, 3157, 3164, 3171, 3178, 3192, 3199\n"
     ]
    }
   ],
   "source": [
    "\n",
    "\n",
    "\n",
    "\n",
    "\n",
    "\n",
    "\n",
    "\n",
    "\n",
    "\n",
    "\n",
    "\n",
    "\n",
    "\n",
    "\n",
    "\n",
    "\n",
    "\n",
    "l=[]\n",
    "for i in range(2000, 3201):\n",
    "    if (i%7==0) and (i%5!=0):\n",
    "        l.append(str(i))\n",
    "\n",
    "print (', '.join(l))"
   ]
  },
  {
   "cell_type": "markdown",
   "metadata": {},
   "source": [
    "## Komplexe Datentypen"
   ]
  },
  {
   "cell_type": "markdown",
   "metadata": {},
   "source": [
    "### List"
   ]
  },
  {
   "cell_type": "code",
   "execution_count": 24,
   "metadata": {},
   "outputs": [
    {
     "data": {
      "text/plain": [
       "list"
      ]
     },
     "execution_count": 24,
     "metadata": {},
     "output_type": "execute_result"
    }
   ],
   "source": [
    "l = [\"a\", 0, [1, 2] ]\n",
    "l[1] = \"second element\"\n",
    "\n",
    "type(l)"
   ]
  },
  {
   "cell_type": "code",
   "execution_count": 25,
   "metadata": {},
   "outputs": [
    {
     "name": "stdout",
     "output_type": "stream",
     "text": [
      "['a', 'second element', [1, 2]]\n"
     ]
    }
   ],
   "source": [
    "print(l)"
   ]
  },
  {
   "cell_type": "code",
   "execution_count": 26,
   "metadata": {},
   "outputs": [
    {
     "name": "stdout",
     "output_type": "stream",
     "text": [
      "range(0, 3)\n"
     ]
    }
   ],
   "source": [
    "indices = range(len(l))\n",
    "print(indices)"
   ]
  },
  {
   "cell_type": "code",
   "execution_count": 27,
   "metadata": {},
   "outputs": [
    {
     "name": "stdout",
     "output_type": "stream",
     "text": [
      "a\n",
      "second element\n",
      "[1, 2]\n"
     ]
    }
   ],
   "source": [
    "# Iterieren Sie über die Indizes mit i=0, i=1, i=2\n",
    "for i in indices:\n",
    "    print(l[i])"
   ]
  },
  {
   "cell_type": "code",
   "execution_count": 28,
   "metadata": {},
   "outputs": [
    {
     "name": "stdout",
     "output_type": "stream",
     "text": [
      "a\n",
      "second element\n",
      "[1, 2]\n"
     ]
    }
   ],
   "source": [
    "# Oder iteriere direkt über die Elemente in `x`\n",
    "for x in l:\n",
    "    print(x)"
   ]
  },
  {
   "cell_type": "markdown",
   "metadata": {},
   "source": [
    "#### Kopieren von Listen\n",
    "Beim kopieren von Listen werden einzelne Attribute Kopiert. Selbes gilt für Sets, Dictionaries.\n",
    "\n",
    "**Beispiel:**\n",
    "```python\n",
    "fifth_element = x[4]\n",
    "fifth_element.append(\"Both!\")\n",
    "print(fifth_element)\n",
    "print(x)\n",
    "```\n",
    "Der Zuweisungsoperator (`=`) kopiert den Zeiger an die Stelle, an der sich die Liste (oder das Dictionary oder Set) befindet: Es kopiert nicht den tatsächlichen Inhalt des gesamten Objekts, sondern nur die Adresse, an der sich die Daten befinden. Dies ist effizient, da das Objekt bspw. mehrere Megabyte groß sein könnte."
   ]
  },
  {
   "cell_type": "code",
   "execution_count": 29,
   "metadata": {},
   "outputs": [
    {
     "name": "stdout",
     "output_type": "stream",
     "text": [
      "[1, 2]\n",
      "[1, 2, 'Both!']\n",
      "[1, 2, 'Both!']\n"
     ]
    }
   ],
   "source": [
    "fifth_element = l[2]\n",
    "print(fifth_element)\n",
    "\n",
    "fifth_element.append(\"Both!\")\n",
    "print(fifth_element)\n",
    "\n",
    "print(x)"
   ]
  },
  {
   "cell_type": "markdown",
   "metadata": {},
   "source": [
    "#### Duplizierte Kopie\n",
    "[Das copy Modul ] [copy]\n",
    "\n",
    "Beispiel:\n",
    "\n",
    "```python\n",
    "import copy\n",
    "\n",
    "# -------------------- A shallow copy\n",
    "x[4] = [\"list\"]\n",
    "shallow_copy_of_x = copy.copy(x)\n",
    "shallow_copy_of_x[0] = \"Shallow copy\"\n",
    "fifth_element = x[4]\n",
    "fifth_element.append(\"Both?\")\n",
    "\n",
    "def print_list(l):\n",
    "   print(\"-\" * 10)\n",
    "   for elem in l:\n",
    "       print(elem)\n",
    "   print()\n",
    "\n",
    "print_list(shallow_copy_of_x)\n",
    "print_list(x)\n",
    "fifth_element\n",
    "```\n",
    "\n",
    "[copy]: https://docs.python.org/3/library/copy.html"
   ]
  },
  {
   "cell_type": "code",
   "execution_count": 31,
   "metadata": {},
   "outputs": [],
   "source": [
    "import copy\n",
    "\n",
    "# -------------------- Flache Kopie\n",
    "l[2] = [\"list\"]\n",
    "shallow_copy_of_x = copy.copy(x)\n",
    "shallow_copy_of_x[0] = \"Shallow copy\"\n",
    "fifth_element = l[2]\n",
    "fifth_element.append(\"Both?\")"
   ]
  },
  {
   "cell_type": "code",
   "execution_count": 33,
   "metadata": {},
   "outputs": [
    {
     "name": "stdout",
     "output_type": "stream",
     "text": [
      "-------- die Liste, element-by-element --------\n",
      "Shallow copy\n",
      "2\n",
      "Both!\n",
      "\n",
      "-------- die Liste, element-by-element --------\n",
      "1\n",
      "2\n",
      "Both!\n",
      "\n"
     ]
    }
   ],
   "source": [
    "# look at them\n",
    "def print_list(l):\n",
    "   print(\"-\" * 8, \"die Liste, element-by-element\", \"-\" * 8)\n",
    "   for elem in l:\n",
    "       print(elem)\n",
    "   print()\n",
    "\n",
    "print_list(shallow_copy_of_x)\n",
    "print_list(x)"
   ]
  },
  {
   "cell_type": "markdown",
   "metadata": {},
   "source": [
    "#### Tiefe Kopie\n",
    "\n",
    "```python\n",
    "# -------------------- Tiefe Kopie\n",
    "\n",
    "x[4] = [\"list\"]\n",
    "deep_copy_of_x = copy.deepcopy(x)\n",
    "deep_copy_of_x[0] = \"Deep copy\"\n",
    "fifth_element = deep_copy_of_x[4]\n",
    "fifth_element.append(\"Both?\")\n",
    "\n",
    "print_list(deep_copy_of_x)\n",
    "print_list(x)\n",
    "fifth_element\n",
    "```"
   ]
  },
  {
   "cell_type": "code",
   "execution_count": 36,
   "metadata": {},
   "outputs": [
    {
     "name": "stdout",
     "output_type": "stream",
     "text": [
      "['list', 'Both? -- no, just this one got it!']\n",
      "['list']\n"
     ]
    }
   ],
   "source": [
    "# -------------------- Tiefe Kopie\n",
    "\n",
    "x[2] = [\"list\"]\n",
    "deep_copy_of_x = copy.deepcopy(x)\n",
    "deep_copy_of_x[0] = \"Deep copy\"\n",
    "first_element = deep_copy_of_x[2]\n",
    "first_element.append(\"Both? -- no, just this one got it!\")\n",
    "\n",
    "print(first_element)\n",
    "print(x[2])"
   ]
  },
  {
   "cell_type": "markdown",
   "metadata": {},
   "source": [
    "### Atomare Typen\n",
    "\n",
    "<table style=\"border:3px solid white;\"><tr>\n",
    "<td> boolean</td>\n",
    "<td> integer </td>\n",
    "<td> float </td>\n",
    "<td>string</td>\n",
    "<td>None</td>\n",
    "</tr><tr>\n",
    "<td><tt>True</tt></td>\n",
    "<td><tt>42</tt></td>\n",
    "<td><tt>42.0</tt></td>\n",
    "<td><tt>\"hello\"</tt></td>\n",
    "<td><tt>None</tt></td>\n",
    "</tr></table>\n",
    "\n",
    "### Container Typen\n",
    "\n",
    "<table style=\"border:3px solid white;\"><tr>\n",
    "<td> list </td>\n",
    "<td> tuple </td>\n",
    "<td> set </td>\n",
    "<td>dictionary</td>\n",
    "</tr><tr style=\"font-size:smaller;\">\n",
    "<td><ul style=\"margin:5px 2px 0px 15px;\"><li>Iterable</li><li>Mutable</li>\n",
    "       <li>No restriction on elements</li>\n",
    "       <li>Elements are ordered</li></ul></td>\n",
    "<td><ul style=\"margin:5px 2px 0px 15px;\"><li>Iterable</li><li>Immutable</li>\n",
    "       <li>Elements must be hashable</li>\n",
    "       <li>Elements are ordered</li></ul></td>\n",
    "<td><ul style=\"margin:5px 2px 0px 15px;\"><li>Iterable</li><li>Mutable</li>\n",
    "    <li>Elements are<br/>\n",
    "    unique and must<br/>\n",
    "    be hashable</li>\n",
    "       <li>Elements are not ordered</li></ul></td>\n",
    "<td><ul style=\"margin:5px 2px 0px 15px;\"><li>Iterable</li><li>Mutable</li>\n",
    "      <li>Key, value pairs.<br/>\n",
    "      Keys are unique and<br/>\n",
    "      must be hashable</li>\n",
    "       <li>Keys are not ordered</li></ul></td>\n",
    "</tr></table>"
   ]
  },
  {
   "cell_type": "markdown",
   "metadata": {},
   "source": [
    "#### Iterable\n",
    "Man kann eine Schleife darüber ziehen.\n",
    "\n",
    "#### Mutable\n",
    "Du kannst es verändern.\n",
    "\n",
    "#### Hashable\n",
    "Eine Hash-Funktion konvertiert ein Objekt in eine Zahl, die für das Objekt immer gleich ist. Sie helfen beim Identifizieren des Objekts."
   ]
  },
  {
   "cell_type": "markdown",
   "metadata": {},
   "source": [
    "### Tuple"
   ]
  },
  {
   "cell_type": "code",
   "execution_count": 73,
   "metadata": {},
   "outputs": [
    {
     "data": {
      "text/plain": [
       "tuple"
      ]
     },
     "execution_count": 73,
     "metadata": {},
     "output_type": "execute_result"
    }
   ],
   "source": [
    "t = (\"a\", 0, \"tuple\")\n",
    "type(t)"
   ]
  },
  {
   "cell_type": "code",
   "execution_count": 74,
   "metadata": {},
   "outputs": [
    {
     "name": "stdout",
     "output_type": "stream",
     "text": [
      "a\n",
      "0\n",
      "tuple\n"
     ]
    }
   ],
   "source": [
    "for x in t:\n",
    "    print(x)"
   ]
  },
  {
   "cell_type": "markdown",
   "metadata": {},
   "source": [
    "### Set\n",
    "Um eine Menge zu bilden, verwende die Funktion `set()`.\n",
    "- Gegenstände in einem Set sind einzigartig\n",
    "- Lists, Dictionaries und Tuple können nicht in einem Set enthalten sein"
   ]
  },
  {
   "cell_type": "code",
   "execution_count": 75,
   "metadata": {},
   "outputs": [],
   "source": [
    "s = set(['a', 0])\n",
    "if 'b' in s:\n",
    "    print(\"has b\")"
   ]
  },
  {
   "cell_type": "code",
   "execution_count": 76,
   "metadata": {},
   "outputs": [
    {
     "name": "stdout",
     "output_type": "stream",
     "text": [
      "has b\n"
     ]
    }
   ],
   "source": [
    "s.add(\"b\")\n",
    "s.remove(\"a\")\n",
    "\n",
    "if 'b' in s:\n",
    "    print(\"has b\")"
   ]
  },
  {
   "cell_type": "code",
   "execution_count": 79,
   "metadata": {},
   "outputs": [
    {
     "name": "stdout",
     "output_type": "stream",
     "text": [
      "Could not add the list\n"
     ]
    }
   ],
   "source": [
    "l = [1,2,3]\n",
    "try:\n",
    "    s.add(l)\n",
    "except TypeError:\n",
    "    print(\"Could not add the list\")\n",
    "    #raise  # uncomment this to raise an error"
   ]
  },
  {
   "cell_type": "markdown",
   "metadata": {},
   "source": [
    "### Dictionary"
   ]
  },
  {
   "cell_type": "code",
   "execution_count": 82,
   "metadata": {},
   "outputs": [],
   "source": [
    "#   zwei Möglichkeiten, das Selbe zu tun\n",
    "d = {\"mother\":\"hamster\",\n",
    "     \"father\":\"elderberries\"}\n",
    "d = dict(mother=\"hamster\",\n",
    "         father=\"elderberries\")"
   ]
  },
  {
   "cell_type": "code",
   "execution_count": 83,
   "metadata": {},
   "outputs": [
    {
     "data": {
      "text/plain": [
       "'hamster'"
      ]
     },
     "execution_count": 83,
     "metadata": {},
     "output_type": "execute_result"
    }
   ],
   "source": [
    "d['mother']"
   ]
  },
  {
   "cell_type": "code",
   "execution_count": 86,
   "metadata": {},
   "outputs": [
    {
     "name": "stdout",
     "output_type": "stream",
     "text": [
      "the dictionary keys: dict_keys(['mother', 'father'])\n",
      "\n",
      "the dictionary values: dict_values(['hamster', 'elderberries'])\n"
     ]
    }
   ],
   "source": [
    "print(\"the dictionary keys:\", d.keys())\n",
    "print()\n",
    "print(\"the dictionary values:\", d.values())"
   ]
  },
  {
   "cell_type": "code",
   "execution_count": 91,
   "metadata": {},
   "outputs": [
    {
     "name": "stdout",
     "output_type": "stream",
     "text": [
      "key:  mother  ... val:  hamster\n",
      "key:  father  ... val:  elderberries\n"
     ]
    }
   ],
   "source": [
    "# Iteriere über ein Dictionary, verwende 2 Iteratoren\n",
    "for k, v in d.items():\n",
    "    print(\"key: \", k, end=\"  ... \")\n",
    "    print(\"val: \", v)"
   ]
  },
  {
   "cell_type": "code",
   "execution_count": 90,
   "metadata": {},
   "outputs": [
    {
     "name": "stdout",
     "output_type": "stream",
     "text": [
      "mother\n",
      "father\n"
     ]
    }
   ],
   "source": [
    "# ...ansonsten ist der Output die \"keys\"\n",
    "for k in d:\n",
    "    print(k)"
   ]
  },
  {
   "cell_type": "markdown",
   "metadata": {},
   "source": [
    "### Takeaways\n",
    "\n",
    "```python\n",
    "# Für weitere Informationen verwende, help(object)\n",
    "help(tuple)\n",
    "help(set)\n",
    "help()\n",
    "```"
   ]
  },
  {
   "cell_type": "markdown",
   "metadata": {},
   "source": [
    "## Funktionen\n",
    "\n",
    "Die Syntax zum Erstellen einer Funktion lautet:\n",
    "\n",
    "```python\n",
    "def function_name(arg1, arg2, kwarg1=default1):\n",
    "    \"\"\"Docstring goes here -- triple quoted.\"\"\"\n",
    "    pass  # the 'pass' keyword means 'do nothing'\n",
    "    \n",
    "\n",
    "# Die nächste nicht eingerückte Aussage ist außerhalb \n",
    "# der Funktion. Anweisungen werden durch ein Leerzeilegetrennt\n",
    "```\n",
    "\n",
    "- Das Schlüsselwort ** def ** eröffnet die Funktionsdeklaration.\n",
    "- Der Doppelpunkt (`:`) beendet die Funktionsdeklaration.\n",
    "- Der Körper muss eingerückt sein. Die Einrückung muss auf der gleichen Ebene sein.\n",
    "- Es gibt keine geschweiften Klammern für Funktionskörper in Python - Leerraum am Anfang einer Zeile sagt Python, dass diese Zeile \"innerhalb\" des Körpers von dem ist, was davor kam."
   ]
  },
  {
   "cell_type": "code",
   "execution_count": 92,
   "metadata": {},
   "outputs": [],
   "source": [
    "def function_name(arg1, arg2, kwarg1=\"my_default_value\"):\n",
    "    \"\"\"Docstring goes here -- triple quoted.\"\"\"\n",
    "    pass  # the 'pass' keyword means 'do nothing'"
   ]
  },
  {
   "cell_type": "code",
   "execution_count": 93,
   "metadata": {},
   "outputs": [
    {
     "name": "stdout",
     "output_type": "stream",
     "text": [
      "Help on function function_name in module __main__:\n",
      "\n",
      "function_name(arg1, arg2, kwarg1='my_default_value')\n",
      "    Docstring goes here -- triple quoted.\n",
      "\n"
     ]
    }
   ],
   "source": [
    "help(function_name)"
   ]
  },
  {
   "cell_type": "markdown",
   "metadata": {},
   "source": [
    "### Whitespace\n",
    "Das 'Tab'-Zeichen **' \\ t '** zählt als ein einzelnes Zeichen, auch wenn es in Ihrem Editor wie mehrere Zeichen aussieht.\n",
    "\n",
    "** Aber Einrückung ist, wie Verschachtelung zu bezeichnen! **\n",
    "\n",
    "Einrückung kann ein Programm ernsthaft durcheinander bringen. Der [Python-Style-Guide] [pep8] empfiehlt, den Editor so zu konfigurieren, dass die Tab-Taste automatisch vier Leerzeichen ergibt.\n",
    "\n",
    "[pep8]: https://www.python.org/dev/peps/pep-0008/"
   ]
  },
  {
   "cell_type": "markdown",
   "metadata": {},
   "source": [
    "### Meiner erste Funktion\n",
    "```python\n",
    "def greet_person(person):\n",
    "    \"\"\"Greet the named person.\n",
    "\n",
    "    usage:\n",
    "        >>> greet_person(\"world\")\n",
    "        hello world\n",
    "    \"\"\"\n",
    "    print('hello', person)\n",
    "```"
   ]
  },
  {
   "cell_type": "code",
   "execution_count": 96,
   "metadata": {},
   "outputs": [],
   "source": [
    "def greet_person(person):\n",
    "    \"\"\"Greet the named person.\n",
    "\n",
    "    usage:\n",
    "        >>> greet_person(\"world\")\n",
    "        hello world\n",
    "    \"\"\"\n",
    "    print('hello', person)"
   ]
  },
  {
   "cell_type": "code",
   "execution_count": 97,
   "metadata": {},
   "outputs": [
    {
     "name": "stdout",
     "output_type": "stream",
     "text": [
      "Help on function greet_person in module __main__:\n",
      "\n",
      "greet_person(person)\n",
      "    Greet the named person.\n",
      "    \n",
      "    usage:\n",
      "        >>> greet_person(\"world\")\n",
      "        hello world\n",
      "\n"
     ]
    }
   ],
   "source": [
    "# Hier ist die Hilfestellung\n",
    "help(greet_person)"
   ]
  },
  {
   "cell_type": "code",
   "execution_count": 98,
   "metadata": {},
   "outputs": [
    {
     "name": "stdout",
     "output_type": "stream",
     "text": [
      "hello world\n"
     ]
    }
   ],
   "source": [
    "greet_person(\"world\")"
   ]
  },
  {
   "cell_type": "markdown",
   "metadata": {},
   "source": [
    "###  Challenge: Funktionen\n",
    "Erstelle eine andere Funktion mit dem Namen `greet_people`, die eine Liste von Personen aufnimmt und sie alle nacheinander begrüßt. Tipp: Du kannst die Funktion `greet_person` aufrufen."
   ]
  },
  {
   "cell_type": "code",
   "execution_count": 99,
   "metadata": {},
   "outputs": [
    {
     "ename": "SyntaxError",
     "evalue": "invalid syntax (<ipython-input-99-d8822535ad13>, line 2)",
     "output_type": "error",
     "traceback": [
      "\u001b[0;36m  File \u001b[0;32m\"<ipython-input-99-d8822535ad13>\"\u001b[0;36m, line \u001b[0;32m2\u001b[0m\n\u001b[0;31m    def greet_people(list_of_people)\u001b[0m\n\u001b[0m                                    ^\u001b[0m\n\u001b[0;31mSyntaxError\u001b[0m\u001b[0;31m:\u001b[0m invalid syntax\n"
     ]
    }
   ],
   "source": [
    "# Deine function\n",
    "def greet_people(list_of_people)\n",
    "    \"\"\"Documentation string goes here.\"\"\"\n",
    "    # You do it here!\n",
    "    pass"
   ]
  },
  {
   "cell_type": "markdown",
   "metadata": {},
   "source": [
    "###  Lösung"
   ]
  },
  {
   "cell_type": "code",
   "execution_count": 104,
   "metadata": {},
   "outputs": [],
   "source": [
    "\n",
    "\n",
    "\n",
    "\n",
    "\n",
    "\n",
    "\n",
    "\n",
    "\n",
    "\n",
    "\n",
    "\n",
    "\n",
    "\n",
    "\n",
    "\n",
    "\n",
    "\n",
    "def greet_people(list_of_people):\n",
    "    for person in list_of_people:\n",
    "        greet_person(person)"
   ]
  },
  {
   "cell_type": "code",
   "execution_count": 105,
   "metadata": {},
   "outputs": [
    {
     "name": "stdout",
     "output_type": "stream",
     "text": [
      "hello world\n",
      "hello awesome python user!\n",
      "hello rockstar!!!\n"
     ]
    }
   ],
   "source": [
    "greet_people([\"world\", \"awesome python user!\", \"rockstar!!!\"])"
   ]
  },
  {
   "cell_type": "markdown",
   "metadata": {},
   "source": [
    "## Module"
   ]
  },
  {
   "cell_type": "markdown",
   "metadata": {},
   "source": [
    "### math"
   ]
  },
  {
   "cell_type": "code",
   "execution_count": 106,
   "metadata": {},
   "outputs": [
    {
     "name": "stdout",
     "output_type": "stream",
     "text": [
      "The square root of 3 is: 1.7320508075688772\n",
      "pi is: 3.141592653589793\n",
      "The sin of  90 degrees is: 1.0\n"
     ]
    }
   ],
   "source": [
    "import math\n",
    "\n",
    "print(\"The square root of 3 is:\", math.sqrt(3))\n",
    "print(\"pi is:\", math.pi)\n",
    "print(\"The sin of  90 degrees is:\", math.sin(math.radians(90)))"
   ]
  },
  {
   "cell_type": "markdown",
   "metadata": {},
   "source": [
    "- Die Anweisung `import` importiert das Modul in den Namespace\n",
    "- Zugreifen auf Funktionen:\n",
    "```python\n",
    "      <module>.<function>\n",
    "```      \n",
    "- Du kannst über ein Module die Dokumentation aufrufen:\n",
    "```python\n",
    "    help(<module>)\n",
    "```"
   ]
  },
  {
   "cell_type": "markdown",
   "metadata": {},
   "source": [
    "### Challenge: math\n",
    "Hinweis: `help (math)` zeigt alle Funktionen ...\n",
    "\n",
    "- What is the arc cosine of `0.743144` in degrees?"
   ]
  },
  {
   "cell_type": "markdown",
   "metadata": {},
   "source": [
    "### Lösung"
   ]
  },
  {
   "cell_type": "code",
   "execution_count": 108,
   "metadata": {},
   "outputs": [
    {
     "data": {
      "text/plain": [
       "42"
      ]
     },
     "execution_count": 108,
     "metadata": {},
     "output_type": "execute_result"
    }
   ],
   "source": [
    "\n",
    "\n",
    "\n",
    "\n",
    "\n",
    "\n",
    "\n",
    "\n",
    "\n",
    "\n",
    "\n",
    "\n",
    "\n",
    "\n",
    "\n",
    "\n",
    "\n",
    "\n",
    "\n",
    "\n",
    "\n",
    "\n",
    "\n",
    "\n",
    "\n",
    "\n",
    "\n",
    "\n",
    "\n",
    "from math import acos, degrees  # use 'from' sparingly\n",
    "\n",
    "int(degrees(acos(0.743144)))  # 'int' to make an integer"
   ]
  },
  {
   "cell_type": "markdown",
   "metadata": {},
   "source": [
    "## Arrays"
   ]
  },
  {
   "cell_type": "markdown",
   "metadata": {},
   "source": [
    "### Eindimensionale Arrays"
   ]
  },
  {
   "cell_type": "code",
   "execution_count": 1,
   "metadata": {},
   "outputs": [
    {
     "name": "stdout",
     "output_type": "stream",
     "text": [
      "Solving environment: done\n",
      "\n",
      "## Package Plan ##\n",
      "\n",
      "  environment location: /home/ubuntu/miniconda3\n",
      "\n",
      "  added / updated specs: \n",
      "    - numpy\n",
      "\n",
      "\n",
      "The following packages will be downloaded:\n",
      "\n",
      "    package                    |            build\n",
      "    ---------------------------|-----------------\n",
      "    mkl_random-1.0.1           |   py37h4414c95_1         372 KB\n",
      "    libgfortran-ng-7.3.0       |       hdf63c60_0         1.3 MB\n",
      "    blas-1.0                   |              mkl           6 KB\n",
      "    mkl-2019.0                 |              118       204.4 MB\n",
      "    numpy-1.15.2               |   py37h1d66e8a_1          48 KB\n",
      "    ------------------------------------------------------------\n",
      "                                           Total:       206.1 MB\n",
      "\n",
      "The following NEW packages will be INSTALLED:\n",
      "\n",
      "    blas:           1.0-mkl              \n",
      "    intel-openmp:   2019.0-118           \n",
      "    libgfortran-ng: 7.3.0-hdf63c60_0     \n",
      "    mkl:            2019.0-118           \n",
      "    mkl_fft:        1.0.6-py37h7dd41cf_0 \n",
      "    mkl_random:     1.0.1-py37h4414c95_1 \n",
      "    numpy:          1.15.2-py37h1d66e8a_1\n",
      "    numpy-base:     1.15.2-py37h81de0dd_1\n",
      "\n",
      "\n",
      "Downloading and Extracting Packages\n",
      "mkl_random-1.0.1     | 372 KB    | ##################################### | 100% \n",
      "libgfortran-ng-7.3.0 | 1.3 MB    | ##################################### | 100% \n",
      "blas-1.0             | 6 KB      | ##################################### | 100% \n",
      "mkl-2019.0           | 204.4 MB  | ##################################### | 100% \n",
      "numpy-1.15.2         | 48 KB     | ##################################### | 100% \n",
      "Preparing transaction: done\n",
      "Verifying transaction: done\n",
      "Executing transaction: done\n"
     ]
    }
   ],
   "source": [
    "# Install numpy in the current Jupyter kernel\n",
    "import sys\n",
    "!conda install --yes --prefix {sys.prefix} numpy"
   ]
  },
  {
   "cell_type": "code",
   "execution_count": 2,
   "metadata": {},
   "outputs": [
    {
     "name": "stdout",
     "output_type": "stream",
     "text": [
      "[1. 2. 3.]\n"
     ]
    }
   ],
   "source": [
    "import numpy as np\n",
    "\n",
    "print(np.array([1.0, 2, 3]))"
   ]
  },
  {
   "cell_type": "code",
   "execution_count": 3,
   "metadata": {},
   "outputs": [
    {
     "name": "stdout",
     "output_type": "stream",
     "text": [
      "[1. 1. 1. 1. 1.]\n"
     ]
    }
   ],
   "source": [
    "print(np.ones(5))"
   ]
  },
  {
   "cell_type": "code",
   "execution_count": 4,
   "metadata": {},
   "outputs": [
    {
     "name": "stdout",
     "output_type": "stream",
     "text": [
      "[2.2 2.4 2.6 2.8]\n"
     ]
    }
   ],
   "source": [
    "print(np.arange(2.2, 3, 0.2, dtype=float))"
   ]
  },
  {
   "cell_type": "markdown",
   "metadata": {},
   "source": [
    "### Mehrdimensionale Arrays"
   ]
  },
  {
   "cell_type": "code",
   "execution_count": 6,
   "metadata": {},
   "outputs": [
    {
     "name": "stdout",
     "output_type": "stream",
     "text": [
      "[[1 2 3]\n",
      " [4 5 6]]\n"
     ]
    }
   ],
   "source": [
    "print(np.array([[1, 2, 3], [4, 5, 6]]))"
   ]
  },
  {
   "cell_type": "code",
   "execution_count": 7,
   "metadata": {},
   "outputs": [
    {
     "name": "stdout",
     "output_type": "stream",
     "text": [
      "[[[1 2 3]\n",
      "  [4 5 6]]\n",
      "\n",
      " [[7 8 9]\n",
      "  [0 1 2]]]\n"
     ]
    }
   ],
   "source": [
    "print(np.array([[[1,2,3], [4,5,6]], [[7,8,9], [0,1,2]]]))"
   ]
  },
  {
   "cell_type": "code",
   "execution_count": 8,
   "metadata": {},
   "outputs": [
    {
     "name": "stdout",
     "output_type": "stream",
     "text": [
      "[[0. 0.]\n",
      " [0. 0.]]\n"
     ]
    }
   ],
   "source": [
    "print(np.zeros((2, 2)))"
   ]
  },
  {
   "cell_type": "markdown",
   "metadata": {},
   "source": [
    "### Subarrays"
   ]
  },
  {
   "cell_type": "code",
   "execution_count": 11,
   "metadata": {},
   "outputs": [
    {
     "name": "stdout",
     "output_type": "stream",
     "text": [
      "(2, 6)\n"
     ]
    }
   ],
   "source": [
    "a = np.array([[1,2,3,4,5,6], [7,8,9,0,1,2]])\n",
    "print(a.shape)"
   ]
  },
  {
   "cell_type": "code",
   "execution_count": 12,
   "metadata": {},
   "outputs": [
    {
     "name": "stdout",
     "output_type": "stream",
     "text": [
      "[2 4 6]\n"
     ]
    }
   ],
   "source": [
    "print(a[0,1::2])  "
   ]
  },
  {
   "cell_type": "code",
   "execution_count": 13,
   "metadata": {},
   "outputs": [
    {
     "name": "stdout",
     "output_type": "stream",
     "text": [
      "[[8 9 0 1 2]]\n"
     ]
    }
   ],
   "source": [
    "print(a[1:,1:])  "
   ]
  },
  {
   "cell_type": "code",
   "execution_count": 14,
   "metadata": {},
   "outputs": [
    {
     "name": "stdout",
     "output_type": "stream",
     "text": [
      "[2 3 6]\n"
     ]
    }
   ],
   "source": [
    "print(a[0, np.array([1,2,5])]) "
   ]
  },
  {
   "cell_type": "markdown",
   "metadata": {},
   "source": [
    "### Matrixoperationen"
   ]
  },
  {
   "cell_type": "code",
   "execution_count": 37,
   "metadata": {},
   "outputs": [
    {
     "name": "stdout",
     "output_type": "stream",
     "text": [
      "[[1 3 5]\n",
      " [2 4 6]]\n",
      "########################\n",
      "(3, 2) (2, 3)\n",
      "########################\n",
      "[[3]\n",
      " [4]]\n"
     ]
    }
   ],
   "source": [
    "a = np.array([[1,2], [3,4]])\n",
    "a = np.concatenate((a, [[5,6]]), axis=0)\n",
    "print(a.transpose())\n",
    "print(\"########################\")\n",
    "print(a.shape, a.transpose().shape)\n",
    "print(\"########################\")\n",
    "print(a[1].reshape((2,1)))"
   ]
  },
  {
   "cell_type": "markdown",
   "metadata": {},
   "source": [
    "# You are done, welcome to Python!"
   ]
  },
  {
   "cell_type": "markdown",
   "metadata": {},
   "source": [
    "# END"
   ]
  }
 ],
 "metadata": {
  "kernelspec": {
   "display_name": "Python 3",
   "language": "python",
   "name": "python3"
  },
  "language_info": {
   "codemirror_mode": {
    "name": "ipython",
    "version": 3
   },
   "file_extension": ".py",
   "mimetype": "text/x-python",
   "name": "python",
   "nbconvert_exporter": "python",
   "pygments_lexer": "ipython3",
   "version": "3.7.3"
  }
 },
 "nbformat": 4,
 "nbformat_minor": 1
}
